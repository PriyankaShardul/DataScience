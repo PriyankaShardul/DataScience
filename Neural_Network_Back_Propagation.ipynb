{
  "nbformat": 4,
  "nbformat_minor": 0,
  "metadata": {
    "kernelspec": {
      "display_name": "Python 3",
      "language": "python",
      "name": "python3"
    },
    "language_info": {
      "codemirror_mode": {
        "name": "ipython",
        "version": 3
      },
      "file_extension": ".py",
      "mimetype": "text/x-python",
      "name": "python",
      "nbconvert_exporter": "python",
      "pygments_lexer": "ipython3",
      "version": "3.8.5"
    },
    "colab": {
      "name": "Neural Network_Back Propagation.ipynb",
      "provenance": [],
      "include_colab_link": true
    }
  },
  "cells": [
    {
      "cell_type": "markdown",
      "metadata": {
        "id": "view-in-github",
        "colab_type": "text"
      },
      "source": [
        "<a href=\"https://colab.research.google.com/github/PriyankaShardul/DataScience/blob/main/Neural_Network_Back_Propagation.ipynb\" target=\"_parent\"><img src=\"https://colab.research.google.com/assets/colab-badge.svg\" alt=\"Open In Colab\"/></a>"
      ]
    },
    {
      "cell_type": "code",
      "metadata": {
        "colab": {
          "base_uri": "https://localhost:8080/"
        },
        "id": "ogdR0e8s096b",
        "outputId": "970dfff2-0e64-4724-f89d-31c8e2b40c5e"
      },
      "source": [
        "!pip install tensorflow"
      ],
      "execution_count": 32,
      "outputs": [
        {
          "output_type": "stream",
          "name": "stdout",
          "text": [
            "Requirement already satisfied: tensorflow in /usr/local/lib/python3.7/dist-packages (2.6.0)\n",
            "Requirement already satisfied: six~=1.15.0 in /usr/local/lib/python3.7/dist-packages (from tensorflow) (1.15.0)\n",
            "Requirement already satisfied: astunparse~=1.6.3 in /usr/local/lib/python3.7/dist-packages (from tensorflow) (1.6.3)\n",
            "Requirement already satisfied: numpy~=1.19.2 in /usr/local/lib/python3.7/dist-packages (from tensorflow) (1.19.5)\n",
            "Requirement already satisfied: wheel~=0.35 in /usr/local/lib/python3.7/dist-packages (from tensorflow) (0.37.0)\n",
            "Requirement already satisfied: termcolor~=1.1.0 in /usr/local/lib/python3.7/dist-packages (from tensorflow) (1.1.0)\n",
            "Requirement already satisfied: h5py~=3.1.0 in /usr/local/lib/python3.7/dist-packages (from tensorflow) (3.1.0)\n",
            "Requirement already satisfied: flatbuffers~=1.12.0 in /usr/local/lib/python3.7/dist-packages (from tensorflow) (1.12)\n",
            "Requirement already satisfied: clang~=5.0 in /usr/local/lib/python3.7/dist-packages (from tensorflow) (5.0)\n",
            "Requirement already satisfied: gast==0.4.0 in /usr/local/lib/python3.7/dist-packages (from tensorflow) (0.4.0)\n",
            "Requirement already satisfied: typing-extensions~=3.7.4 in /usr/local/lib/python3.7/dist-packages (from tensorflow) (3.7.4.3)\n",
            "Requirement already satisfied: tensorboard~=2.6 in /usr/local/lib/python3.7/dist-packages (from tensorflow) (2.6.0)\n",
            "Requirement already satisfied: absl-py~=0.10 in /usr/local/lib/python3.7/dist-packages (from tensorflow) (0.12.0)\n",
            "Requirement already satisfied: tensorflow-estimator~=2.6 in /usr/local/lib/python3.7/dist-packages (from tensorflow) (2.6.0)\n",
            "Requirement already satisfied: opt-einsum~=3.3.0 in /usr/local/lib/python3.7/dist-packages (from tensorflow) (3.3.0)\n",
            "Requirement already satisfied: wrapt~=1.12.1 in /usr/local/lib/python3.7/dist-packages (from tensorflow) (1.12.1)\n",
            "Requirement already satisfied: keras-preprocessing~=1.1.2 in /usr/local/lib/python3.7/dist-packages (from tensorflow) (1.1.2)\n",
            "Requirement already satisfied: google-pasta~=0.2 in /usr/local/lib/python3.7/dist-packages (from tensorflow) (0.2.0)\n",
            "Requirement already satisfied: keras~=2.6 in /usr/local/lib/python3.7/dist-packages (from tensorflow) (2.6.0)\n",
            "Requirement already satisfied: grpcio<2.0,>=1.37.0 in /usr/local/lib/python3.7/dist-packages (from tensorflow) (1.40.0)\n",
            "Requirement already satisfied: protobuf>=3.9.2 in /usr/local/lib/python3.7/dist-packages (from tensorflow) (3.17.3)\n",
            "Requirement already satisfied: cached-property in /usr/local/lib/python3.7/dist-packages (from h5py~=3.1.0->tensorflow) (1.5.2)\n",
            "Requirement already satisfied: markdown>=2.6.8 in /usr/local/lib/python3.7/dist-packages (from tensorboard~=2.6->tensorflow) (3.3.4)\n",
            "Requirement already satisfied: tensorboard-data-server<0.7.0,>=0.6.0 in /usr/local/lib/python3.7/dist-packages (from tensorboard~=2.6->tensorflow) (0.6.1)\n",
            "Requirement already satisfied: werkzeug>=0.11.15 in /usr/local/lib/python3.7/dist-packages (from tensorboard~=2.6->tensorflow) (1.0.1)\n",
            "Requirement already satisfied: requests<3,>=2.21.0 in /usr/local/lib/python3.7/dist-packages (from tensorboard~=2.6->tensorflow) (2.23.0)\n",
            "Requirement already satisfied: google-auth-oauthlib<0.5,>=0.4.1 in /usr/local/lib/python3.7/dist-packages (from tensorboard~=2.6->tensorflow) (0.4.6)\n",
            "Requirement already satisfied: setuptools>=41.0.0 in /usr/local/lib/python3.7/dist-packages (from tensorboard~=2.6->tensorflow) (57.4.0)\n",
            "Requirement already satisfied: tensorboard-plugin-wit>=1.6.0 in /usr/local/lib/python3.7/dist-packages (from tensorboard~=2.6->tensorflow) (1.8.0)\n",
            "Requirement already satisfied: google-auth<2,>=1.6.3 in /usr/local/lib/python3.7/dist-packages (from tensorboard~=2.6->tensorflow) (1.35.0)\n",
            "Requirement already satisfied: cachetools<5.0,>=2.0.0 in /usr/local/lib/python3.7/dist-packages (from google-auth<2,>=1.6.3->tensorboard~=2.6->tensorflow) (4.2.2)\n",
            "Requirement already satisfied: rsa<5,>=3.1.4 in /usr/local/lib/python3.7/dist-packages (from google-auth<2,>=1.6.3->tensorboard~=2.6->tensorflow) (4.7.2)\n",
            "Requirement already satisfied: pyasn1-modules>=0.2.1 in /usr/local/lib/python3.7/dist-packages (from google-auth<2,>=1.6.3->tensorboard~=2.6->tensorflow) (0.2.8)\n",
            "Requirement already satisfied: requests-oauthlib>=0.7.0 in /usr/local/lib/python3.7/dist-packages (from google-auth-oauthlib<0.5,>=0.4.1->tensorboard~=2.6->tensorflow) (1.3.0)\n",
            "Requirement already satisfied: importlib-metadata in /usr/local/lib/python3.7/dist-packages (from markdown>=2.6.8->tensorboard~=2.6->tensorflow) (4.8.1)\n",
            "Requirement already satisfied: pyasn1<0.5.0,>=0.4.6 in /usr/local/lib/python3.7/dist-packages (from pyasn1-modules>=0.2.1->google-auth<2,>=1.6.3->tensorboard~=2.6->tensorflow) (0.4.8)\n",
            "Requirement already satisfied: idna<3,>=2.5 in /usr/local/lib/python3.7/dist-packages (from requests<3,>=2.21.0->tensorboard~=2.6->tensorflow) (2.10)\n",
            "Requirement already satisfied: chardet<4,>=3.0.2 in /usr/local/lib/python3.7/dist-packages (from requests<3,>=2.21.0->tensorboard~=2.6->tensorflow) (3.0.4)\n",
            "Requirement already satisfied: certifi>=2017.4.17 in /usr/local/lib/python3.7/dist-packages (from requests<3,>=2.21.0->tensorboard~=2.6->tensorflow) (2021.5.30)\n",
            "Requirement already satisfied: urllib3!=1.25.0,!=1.25.1,<1.26,>=1.21.1 in /usr/local/lib/python3.7/dist-packages (from requests<3,>=2.21.0->tensorboard~=2.6->tensorflow) (1.24.3)\n",
            "Requirement already satisfied: oauthlib>=3.0.0 in /usr/local/lib/python3.7/dist-packages (from requests-oauthlib>=0.7.0->google-auth-oauthlib<0.5,>=0.4.1->tensorboard~=2.6->tensorflow) (3.1.1)\n",
            "Requirement already satisfied: zipp>=0.5 in /usr/local/lib/python3.7/dist-packages (from importlib-metadata->markdown>=2.6.8->tensorboard~=2.6->tensorflow) (3.5.0)\n"
          ]
        }
      ]
    },
    {
      "cell_type": "code",
      "metadata": {
        "id": "ttzKRMEs096g"
      },
      "source": [
        "# if the above doesn't work,try an prompt\n",
        "#pip install --default-timeout=1000 tensorflow"
      ],
      "execution_count": 33,
      "outputs": []
    },
    {
      "cell_type": "code",
      "metadata": {
        "colab": {
          "base_uri": "https://localhost:8080/"
        },
        "id": "8m4Kjl55096h",
        "outputId": "8c4fc2ae-7800-43ea-cee1-357997f90005"
      },
      "source": [
        "!pip install keras"
      ],
      "execution_count": 34,
      "outputs": [
        {
          "output_type": "stream",
          "name": "stdout",
          "text": [
            "Requirement already satisfied: keras in /usr/local/lib/python3.7/dist-packages (2.6.0)\n"
          ]
        }
      ]
    },
    {
      "cell_type": "code",
      "metadata": {
        "id": "eKsWwqnn096h"
      },
      "source": [
        "# Create your first MLP in Keras\n",
        "from keras.models import Sequential\n",
        "from keras.layers import Dense\n",
        "import numpy\n",
        "import matplotlib.pyplot as plt"
      ],
      "execution_count": 35,
      "outputs": []
    },
    {
      "cell_type": "code",
      "metadata": {
        "id": "CzIuxtqj096i"
      },
      "source": [
        "# fix random seed for reproducibility\n",
        "seed = 7\n",
        "numpy.random.seed(seed)\n",
        "# load pima indians dataset\n",
        "dataset = numpy.loadtxt(\"/content/pima-indians-diabetes.csv\", delimiter=\",\")\n",
        "# split into input (X) and output (Y) variables\n",
        "X = dataset[:,0:8]\n",
        "Y = dataset[:,8]"
      ],
      "execution_count": 36,
      "outputs": []
    },
    {
      "cell_type": "code",
      "metadata": {
        "id": "YLbxg49p096i"
      },
      "source": [
        "# create model\n",
        "model = Sequential()\n",
        "model.add(Dense(12, input_dim=8, activation='relu'))\n",
        "model.add(Dense(8, activation='relu'))\n",
        "model.add(Dense(1, activation='sigmoid'))"
      ],
      "execution_count": 37,
      "outputs": []
    },
    {
      "cell_type": "markdown",
      "metadata": {
        "id": "uV7civr7096j"
      },
      "source": [
        " ![image.png](attachment:image.png)"
      ]
    },
    {
      "cell_type": "code",
      "metadata": {
        "id": "jZJkg00i096l"
      },
      "source": [
        "# Compile model\n",
        "model.compile(loss='binary_crossentropy', optimizer='adam', metrics=['accuracy'])"
      ],
      "execution_count": 38,
      "outputs": []
    },
    {
      "cell_type": "code",
      "metadata": {
        "colab": {
          "base_uri": "https://localhost:8080/"
        },
        "id": "3TSq4VXB096m",
        "outputId": "148038b3-8af9-4a27-c2ca-6eb315222ded"
      },
      "source": [
        "# Fit the model\n",
        "model.fit(X, Y, validation_split=0.33, epochs=150, batch_size=10)"
      ],
      "execution_count": 39,
      "outputs": [
        {
          "output_type": "stream",
          "name": "stdout",
          "text": [
            "Epoch 1/150\n",
            "52/52 [==============================] - 1s 5ms/step - loss: 6.0801 - accuracy: 0.6128 - val_loss: 2.4250 - val_accuracy: 0.6299\n",
            "Epoch 2/150\n",
            "52/52 [==============================] - 0s 2ms/step - loss: 1.9553 - accuracy: 0.6362 - val_loss: 2.3737 - val_accuracy: 0.4646\n",
            "Epoch 3/150\n",
            "52/52 [==============================] - 0s 3ms/step - loss: 1.7055 - accuracy: 0.6187 - val_loss: 1.4829 - val_accuracy: 0.5906\n",
            "Epoch 4/150\n",
            "52/52 [==============================] - 0s 3ms/step - loss: 1.4212 - accuracy: 0.6440 - val_loss: 1.3815 - val_accuracy: 0.6417\n",
            "Epoch 5/150\n",
            "52/52 [==============================] - 0s 3ms/step - loss: 1.2365 - accuracy: 0.6459 - val_loss: 1.1502 - val_accuracy: 0.5945\n",
            "Epoch 6/150\n",
            "52/52 [==============================] - 0s 2ms/step - loss: 1.1038 - accuracy: 0.6595 - val_loss: 0.9953 - val_accuracy: 0.6142\n",
            "Epoch 7/150\n",
            "52/52 [==============================] - 0s 3ms/step - loss: 0.9652 - accuracy: 0.6673 - val_loss: 0.8913 - val_accuracy: 0.6102\n",
            "Epoch 8/150\n",
            "52/52 [==============================] - 0s 3ms/step - loss: 0.9626 - accuracy: 0.6498 - val_loss: 0.8176 - val_accuracy: 0.6024\n",
            "Epoch 9/150\n",
            "52/52 [==============================] - 0s 3ms/step - loss: 0.8765 - accuracy: 0.6673 - val_loss: 0.9162 - val_accuracy: 0.6811\n",
            "Epoch 10/150\n",
            "52/52 [==============================] - 0s 3ms/step - loss: 0.8387 - accuracy: 0.6829 - val_loss: 0.7632 - val_accuracy: 0.5906\n",
            "Epoch 11/150\n",
            "52/52 [==============================] - 0s 2ms/step - loss: 0.8145 - accuracy: 0.6615 - val_loss: 0.7152 - val_accuracy: 0.6772\n",
            "Epoch 12/150\n",
            "52/52 [==============================] - 0s 3ms/step - loss: 0.7390 - accuracy: 0.6926 - val_loss: 0.6885 - val_accuracy: 0.6732\n",
            "Epoch 13/150\n",
            "52/52 [==============================] - 0s 3ms/step - loss: 0.7131 - accuracy: 0.6809 - val_loss: 0.6819 - val_accuracy: 0.6654\n",
            "Epoch 14/150\n",
            "52/52 [==============================] - 0s 2ms/step - loss: 0.7016 - accuracy: 0.6848 - val_loss: 0.7342 - val_accuracy: 0.5984\n",
            "Epoch 15/150\n",
            "52/52 [==============================] - 0s 2ms/step - loss: 0.6719 - accuracy: 0.6770 - val_loss: 0.6809 - val_accuracy: 0.6378\n",
            "Epoch 16/150\n",
            "52/52 [==============================] - 0s 3ms/step - loss: 0.6831 - accuracy: 0.6790 - val_loss: 0.6992 - val_accuracy: 0.6142\n",
            "Epoch 17/150\n",
            "52/52 [==============================] - 0s 2ms/step - loss: 0.6682 - accuracy: 0.7101 - val_loss: 0.8209 - val_accuracy: 0.6024\n",
            "Epoch 18/150\n",
            "52/52 [==============================] - 0s 2ms/step - loss: 0.6843 - accuracy: 0.6790 - val_loss: 0.6818 - val_accuracy: 0.6063\n",
            "Epoch 19/150\n",
            "52/52 [==============================] - 0s 3ms/step - loss: 0.6844 - accuracy: 0.6887 - val_loss: 0.6643 - val_accuracy: 0.7047\n",
            "Epoch 20/150\n",
            "52/52 [==============================] - 0s 2ms/step - loss: 0.6705 - accuracy: 0.6770 - val_loss: 0.6498 - val_accuracy: 0.6181\n",
            "Epoch 21/150\n",
            "52/52 [==============================] - 0s 3ms/step - loss: 0.6412 - accuracy: 0.6926 - val_loss: 0.6073 - val_accuracy: 0.7126\n",
            "Epoch 22/150\n",
            "52/52 [==============================] - 0s 3ms/step - loss: 0.6447 - accuracy: 0.6907 - val_loss: 0.6239 - val_accuracy: 0.6969\n",
            "Epoch 23/150\n",
            "52/52 [==============================] - 0s 3ms/step - loss: 0.6552 - accuracy: 0.6984 - val_loss: 0.9164 - val_accuracy: 0.5591\n",
            "Epoch 24/150\n",
            "52/52 [==============================] - 0s 3ms/step - loss: 0.6481 - accuracy: 0.6965 - val_loss: 0.6051 - val_accuracy: 0.6969\n",
            "Epoch 25/150\n",
            "52/52 [==============================] - 0s 3ms/step - loss: 0.7278 - accuracy: 0.6634 - val_loss: 0.6150 - val_accuracy: 0.6850\n",
            "Epoch 26/150\n",
            "52/52 [==============================] - 0s 2ms/step - loss: 0.6188 - accuracy: 0.7121 - val_loss: 0.5857 - val_accuracy: 0.6890\n",
            "Epoch 27/150\n",
            "52/52 [==============================] - 0s 3ms/step - loss: 0.6231 - accuracy: 0.7043 - val_loss: 0.5920 - val_accuracy: 0.6693\n",
            "Epoch 28/150\n",
            "52/52 [==============================] - 0s 2ms/step - loss: 0.6241 - accuracy: 0.6868 - val_loss: 0.7332 - val_accuracy: 0.7008\n",
            "Epoch 29/150\n",
            "52/52 [==============================] - 0s 2ms/step - loss: 0.6423 - accuracy: 0.6946 - val_loss: 0.5904 - val_accuracy: 0.6811\n",
            "Epoch 30/150\n",
            "52/52 [==============================] - 0s 3ms/step - loss: 0.6313 - accuracy: 0.7121 - val_loss: 0.6513 - val_accuracy: 0.6929\n",
            "Epoch 31/150\n",
            "52/52 [==============================] - 0s 3ms/step - loss: 0.6353 - accuracy: 0.6984 - val_loss: 0.6219 - val_accuracy: 0.6457\n",
            "Epoch 32/150\n",
            "52/52 [==============================] - 0s 2ms/step - loss: 0.6410 - accuracy: 0.6965 - val_loss: 0.6075 - val_accuracy: 0.6496\n",
            "Epoch 33/150\n",
            "52/52 [==============================] - 0s 2ms/step - loss: 0.6427 - accuracy: 0.6965 - val_loss: 0.5886 - val_accuracy: 0.6811\n",
            "Epoch 34/150\n",
            "52/52 [==============================] - 0s 3ms/step - loss: 0.6695 - accuracy: 0.6809 - val_loss: 0.6817 - val_accuracy: 0.6024\n",
            "Epoch 35/150\n",
            "52/52 [==============================] - 0s 2ms/step - loss: 0.6789 - accuracy: 0.6751 - val_loss: 0.6810 - val_accuracy: 0.6102\n",
            "Epoch 36/150\n",
            "52/52 [==============================] - 0s 3ms/step - loss: 0.6716 - accuracy: 0.6576 - val_loss: 0.5783 - val_accuracy: 0.6890\n",
            "Epoch 37/150\n",
            "52/52 [==============================] - 0s 3ms/step - loss: 0.6342 - accuracy: 0.6673 - val_loss: 0.5919 - val_accuracy: 0.7205\n",
            "Epoch 38/150\n",
            "52/52 [==============================] - 0s 3ms/step - loss: 0.6045 - accuracy: 0.7160 - val_loss: 0.5804 - val_accuracy: 0.6890\n",
            "Epoch 39/150\n",
            "52/52 [==============================] - 0s 3ms/step - loss: 0.6049 - accuracy: 0.7101 - val_loss: 0.5866 - val_accuracy: 0.6890\n",
            "Epoch 40/150\n",
            "52/52 [==============================] - 0s 2ms/step - loss: 0.6528 - accuracy: 0.6984 - val_loss: 0.6447 - val_accuracy: 0.6969\n",
            "Epoch 41/150\n",
            "52/52 [==============================] - 0s 3ms/step - loss: 0.5986 - accuracy: 0.7043 - val_loss: 0.5871 - val_accuracy: 0.6890\n",
            "Epoch 42/150\n",
            "52/52 [==============================] - 0s 3ms/step - loss: 0.6317 - accuracy: 0.6965 - val_loss: 0.5652 - val_accuracy: 0.6929\n",
            "Epoch 43/150\n",
            "52/52 [==============================] - 0s 2ms/step - loss: 0.6815 - accuracy: 0.6751 - val_loss: 0.6198 - val_accuracy: 0.7047\n",
            "Epoch 44/150\n",
            "52/52 [==============================] - 0s 2ms/step - loss: 0.6135 - accuracy: 0.6984 - val_loss: 0.5927 - val_accuracy: 0.6732\n",
            "Epoch 45/150\n",
            "52/52 [==============================] - 0s 2ms/step - loss: 0.5983 - accuracy: 0.7023 - val_loss: 0.6365 - val_accuracy: 0.6575\n",
            "Epoch 46/150\n",
            "52/52 [==============================] - 0s 3ms/step - loss: 0.6565 - accuracy: 0.6907 - val_loss: 0.5791 - val_accuracy: 0.7087\n",
            "Epoch 47/150\n",
            "52/52 [==============================] - 0s 2ms/step - loss: 0.6416 - accuracy: 0.7062 - val_loss: 0.5952 - val_accuracy: 0.6929\n",
            "Epoch 48/150\n",
            "52/52 [==============================] - 0s 3ms/step - loss: 0.6015 - accuracy: 0.7121 - val_loss: 0.5972 - val_accuracy: 0.7047\n",
            "Epoch 49/150\n",
            "52/52 [==============================] - 0s 3ms/step - loss: 0.5896 - accuracy: 0.7237 - val_loss: 0.5589 - val_accuracy: 0.7008\n",
            "Epoch 50/150\n",
            "52/52 [==============================] - 0s 2ms/step - loss: 0.5711 - accuracy: 0.7315 - val_loss: 0.5737 - val_accuracy: 0.6811\n",
            "Epoch 51/150\n",
            "52/52 [==============================] - 0s 2ms/step - loss: 0.6034 - accuracy: 0.7082 - val_loss: 0.5864 - val_accuracy: 0.7087\n",
            "Epoch 52/150\n",
            "52/52 [==============================] - 0s 3ms/step - loss: 0.5811 - accuracy: 0.7160 - val_loss: 0.5780 - val_accuracy: 0.6969\n",
            "Epoch 53/150\n",
            "52/52 [==============================] - 0s 3ms/step - loss: 0.5898 - accuracy: 0.7218 - val_loss: 0.6086 - val_accuracy: 0.7008\n",
            "Epoch 54/150\n",
            "52/52 [==============================] - 0s 2ms/step - loss: 0.5874 - accuracy: 0.7023 - val_loss: 0.5914 - val_accuracy: 0.6890\n",
            "Epoch 55/150\n",
            "52/52 [==============================] - 0s 2ms/step - loss: 0.6034 - accuracy: 0.6907 - val_loss: 0.5868 - val_accuracy: 0.7087\n",
            "Epoch 56/150\n",
            "52/52 [==============================] - 0s 3ms/step - loss: 0.6199 - accuracy: 0.6732 - val_loss: 0.7738 - val_accuracy: 0.5787\n",
            "Epoch 57/150\n",
            "52/52 [==============================] - 0s 2ms/step - loss: 0.6061 - accuracy: 0.6907 - val_loss: 0.6927 - val_accuracy: 0.6220\n",
            "Epoch 58/150\n",
            "52/52 [==============================] - 0s 3ms/step - loss: 0.6183 - accuracy: 0.6770 - val_loss: 0.5755 - val_accuracy: 0.7008\n",
            "Epoch 59/150\n",
            "52/52 [==============================] - 0s 2ms/step - loss: 0.6112 - accuracy: 0.6984 - val_loss: 0.6782 - val_accuracy: 0.7047\n",
            "Epoch 60/150\n",
            "52/52 [==============================] - 0s 3ms/step - loss: 0.6373 - accuracy: 0.6654 - val_loss: 0.6626 - val_accuracy: 0.6496\n",
            "Epoch 61/150\n",
            "52/52 [==============================] - 0s 2ms/step - loss: 0.5975 - accuracy: 0.6984 - val_loss: 0.5479 - val_accuracy: 0.7008\n",
            "Epoch 62/150\n",
            "52/52 [==============================] - 0s 3ms/step - loss: 0.5725 - accuracy: 0.7257 - val_loss: 0.6645 - val_accuracy: 0.7047\n",
            "Epoch 63/150\n",
            "52/52 [==============================] - 0s 3ms/step - loss: 0.6027 - accuracy: 0.6946 - val_loss: 0.5690 - val_accuracy: 0.6732\n",
            "Epoch 64/150\n",
            "52/52 [==============================] - 0s 3ms/step - loss: 0.5718 - accuracy: 0.7140 - val_loss: 0.5814 - val_accuracy: 0.7008\n",
            "Epoch 65/150\n",
            "52/52 [==============================] - 0s 3ms/step - loss: 0.5932 - accuracy: 0.7140 - val_loss: 0.5574 - val_accuracy: 0.7008\n",
            "Epoch 66/150\n",
            "52/52 [==============================] - 0s 2ms/step - loss: 0.5840 - accuracy: 0.7198 - val_loss: 0.6192 - val_accuracy: 0.6693\n",
            "Epoch 67/150\n",
            "52/52 [==============================] - 0s 2ms/step - loss: 0.5595 - accuracy: 0.7432 - val_loss: 0.5785 - val_accuracy: 0.6929\n",
            "Epoch 68/150\n",
            "52/52 [==============================] - 0s 2ms/step - loss: 0.5569 - accuracy: 0.7237 - val_loss: 0.5627 - val_accuracy: 0.7126\n",
            "Epoch 69/150\n",
            "52/52 [==============================] - 0s 3ms/step - loss: 0.5670 - accuracy: 0.7257 - val_loss: 0.5438 - val_accuracy: 0.7165\n",
            "Epoch 70/150\n",
            "52/52 [==============================] - 0s 3ms/step - loss: 0.5667 - accuracy: 0.7257 - val_loss: 0.5628 - val_accuracy: 0.7008\n",
            "Epoch 71/150\n",
            "52/52 [==============================] - 0s 3ms/step - loss: 0.5936 - accuracy: 0.7082 - val_loss: 0.6060 - val_accuracy: 0.6772\n",
            "Epoch 72/150\n",
            "52/52 [==============================] - 0s 3ms/step - loss: 0.5819 - accuracy: 0.7043 - val_loss: 0.5721 - val_accuracy: 0.6772\n",
            "Epoch 73/150\n",
            "52/52 [==============================] - 0s 2ms/step - loss: 0.5680 - accuracy: 0.7257 - val_loss: 0.5606 - val_accuracy: 0.7205\n",
            "Epoch 74/150\n",
            "52/52 [==============================] - 0s 2ms/step - loss: 0.5675 - accuracy: 0.7062 - val_loss: 0.5654 - val_accuracy: 0.7047\n",
            "Epoch 75/150\n",
            "52/52 [==============================] - 0s 2ms/step - loss: 0.5750 - accuracy: 0.7062 - val_loss: 0.5517 - val_accuracy: 0.7008\n",
            "Epoch 76/150\n",
            "52/52 [==============================] - 0s 3ms/step - loss: 0.5674 - accuracy: 0.7140 - val_loss: 0.5772 - val_accuracy: 0.7165\n",
            "Epoch 77/150\n",
            "52/52 [==============================] - 0s 3ms/step - loss: 0.5586 - accuracy: 0.7276 - val_loss: 0.6266 - val_accuracy: 0.6575\n",
            "Epoch 78/150\n",
            "52/52 [==============================] - 0s 3ms/step - loss: 0.5486 - accuracy: 0.7432 - val_loss: 0.6152 - val_accuracy: 0.6496\n",
            "Epoch 79/150\n",
            "52/52 [==============================] - 0s 2ms/step - loss: 0.5667 - accuracy: 0.7218 - val_loss: 0.5544 - val_accuracy: 0.7165\n",
            "Epoch 80/150\n",
            "52/52 [==============================] - 0s 2ms/step - loss: 0.5804 - accuracy: 0.7101 - val_loss: 0.5617 - val_accuracy: 0.7008\n",
            "Epoch 81/150\n",
            "52/52 [==============================] - 0s 3ms/step - loss: 0.5889 - accuracy: 0.7160 - val_loss: 0.5459 - val_accuracy: 0.7126\n",
            "Epoch 82/150\n",
            "52/52 [==============================] - 0s 2ms/step - loss: 0.5830 - accuracy: 0.7004 - val_loss: 0.5521 - val_accuracy: 0.7047\n",
            "Epoch 83/150\n",
            "52/52 [==============================] - 0s 3ms/step - loss: 0.6297 - accuracy: 0.6907 - val_loss: 0.6443 - val_accuracy: 0.7008\n",
            "Epoch 84/150\n",
            "52/52 [==============================] - 0s 3ms/step - loss: 0.5560 - accuracy: 0.7160 - val_loss: 0.5376 - val_accuracy: 0.7402\n",
            "Epoch 85/150\n",
            "52/52 [==============================] - 0s 2ms/step - loss: 0.5603 - accuracy: 0.7179 - val_loss: 0.5384 - val_accuracy: 0.7244\n",
            "Epoch 86/150\n",
            "52/52 [==============================] - 0s 3ms/step - loss: 0.5830 - accuracy: 0.7043 - val_loss: 0.5523 - val_accuracy: 0.7244\n",
            "Epoch 87/150\n",
            "52/52 [==============================] - 0s 3ms/step - loss: 0.5457 - accuracy: 0.7315 - val_loss: 0.5919 - val_accuracy: 0.6850\n",
            "Epoch 88/150\n",
            "52/52 [==============================] - 0s 2ms/step - loss: 0.5838 - accuracy: 0.7101 - val_loss: 0.5587 - val_accuracy: 0.7126\n",
            "Epoch 89/150\n",
            "52/52 [==============================] - 0s 3ms/step - loss: 0.5361 - accuracy: 0.7432 - val_loss: 0.5417 - val_accuracy: 0.7244\n",
            "Epoch 90/150\n",
            "52/52 [==============================] - 0s 2ms/step - loss: 0.5537 - accuracy: 0.7218 - val_loss: 0.5525 - val_accuracy: 0.7165\n",
            "Epoch 91/150\n",
            "52/52 [==============================] - 0s 2ms/step - loss: 0.6034 - accuracy: 0.6868 - val_loss: 0.5858 - val_accuracy: 0.6890\n",
            "Epoch 92/150\n",
            "52/52 [==============================] - 0s 3ms/step - loss: 0.5684 - accuracy: 0.7082 - val_loss: 0.5721 - val_accuracy: 0.7126\n",
            "Epoch 93/150\n",
            "52/52 [==============================] - 0s 2ms/step - loss: 0.5468 - accuracy: 0.7529 - val_loss: 0.5894 - val_accuracy: 0.7008\n",
            "Epoch 94/150\n",
            "52/52 [==============================] - 0s 2ms/step - loss: 0.5354 - accuracy: 0.7393 - val_loss: 0.5561 - val_accuracy: 0.7126\n",
            "Epoch 95/150\n",
            "52/52 [==============================] - 0s 3ms/step - loss: 0.5405 - accuracy: 0.7471 - val_loss: 0.5831 - val_accuracy: 0.7008\n",
            "Epoch 96/150\n",
            "52/52 [==============================] - 0s 2ms/step - loss: 0.5598 - accuracy: 0.7101 - val_loss: 0.5622 - val_accuracy: 0.7165\n",
            "Epoch 97/150\n",
            "52/52 [==============================] - 0s 2ms/step - loss: 0.5391 - accuracy: 0.7335 - val_loss: 0.5888 - val_accuracy: 0.7008\n",
            "Epoch 98/150\n",
            "52/52 [==============================] - 0s 3ms/step - loss: 0.5654 - accuracy: 0.7315 - val_loss: 0.6356 - val_accuracy: 0.6732\n",
            "Epoch 99/150\n",
            "52/52 [==============================] - 0s 2ms/step - loss: 0.5535 - accuracy: 0.7218 - val_loss: 0.5428 - val_accuracy: 0.7008\n",
            "Epoch 100/150\n",
            "52/52 [==============================] - 0s 3ms/step - loss: 0.5742 - accuracy: 0.7257 - val_loss: 0.7927 - val_accuracy: 0.5236\n",
            "Epoch 101/150\n",
            "52/52 [==============================] - 0s 3ms/step - loss: 0.5615 - accuracy: 0.7198 - val_loss: 0.5312 - val_accuracy: 0.7283\n",
            "Epoch 102/150\n",
            "52/52 [==============================] - 0s 3ms/step - loss: 0.5270 - accuracy: 0.7315 - val_loss: 0.7174 - val_accuracy: 0.7047\n",
            "Epoch 103/150\n",
            "52/52 [==============================] - 0s 2ms/step - loss: 0.5492 - accuracy: 0.7393 - val_loss: 0.5657 - val_accuracy: 0.7283\n",
            "Epoch 104/150\n",
            "52/52 [==============================] - 0s 3ms/step - loss: 0.5495 - accuracy: 0.7354 - val_loss: 0.5781 - val_accuracy: 0.7047\n",
            "Epoch 105/150\n",
            "52/52 [==============================] - 0s 3ms/step - loss: 0.5409 - accuracy: 0.7315 - val_loss: 0.5795 - val_accuracy: 0.6969\n",
            "Epoch 106/150\n",
            "52/52 [==============================] - 0s 3ms/step - loss: 0.5720 - accuracy: 0.7101 - val_loss: 0.5536 - val_accuracy: 0.7205\n",
            "Epoch 107/150\n",
            "52/52 [==============================] - 0s 3ms/step - loss: 0.5679 - accuracy: 0.7121 - val_loss: 0.5502 - val_accuracy: 0.7244\n",
            "Epoch 108/150\n",
            "52/52 [==============================] - 0s 2ms/step - loss: 0.5805 - accuracy: 0.7354 - val_loss: 0.5215 - val_accuracy: 0.7559\n",
            "Epoch 109/150\n",
            "52/52 [==============================] - 0s 3ms/step - loss: 0.5266 - accuracy: 0.7315 - val_loss: 0.5589 - val_accuracy: 0.7283\n",
            "Epoch 110/150\n",
            "52/52 [==============================] - 0s 2ms/step - loss: 0.5499 - accuracy: 0.7296 - val_loss: 0.5477 - val_accuracy: 0.7480\n",
            "Epoch 111/150\n",
            "52/52 [==============================] - 0s 2ms/step - loss: 0.5310 - accuracy: 0.7393 - val_loss: 0.5871 - val_accuracy: 0.6969\n",
            "Epoch 112/150\n",
            "52/52 [==============================] - 0s 3ms/step - loss: 0.5191 - accuracy: 0.7549 - val_loss: 0.5284 - val_accuracy: 0.7441\n",
            "Epoch 113/150\n",
            "52/52 [==============================] - 0s 2ms/step - loss: 0.5320 - accuracy: 0.7471 - val_loss: 0.5944 - val_accuracy: 0.7008\n",
            "Epoch 114/150\n",
            "52/52 [==============================] - 0s 2ms/step - loss: 0.6002 - accuracy: 0.7062 - val_loss: 0.5700 - val_accuracy: 0.7087\n",
            "Epoch 115/150\n",
            "52/52 [==============================] - 0s 3ms/step - loss: 0.5492 - accuracy: 0.7393 - val_loss: 0.5454 - val_accuracy: 0.7244\n",
            "Epoch 116/150\n",
            "52/52 [==============================] - 0s 2ms/step - loss: 0.5361 - accuracy: 0.7432 - val_loss: 0.5382 - val_accuracy: 0.7402\n",
            "Epoch 117/150\n",
            "52/52 [==============================] - 0s 3ms/step - loss: 0.5216 - accuracy: 0.7529 - val_loss: 0.5293 - val_accuracy: 0.7638\n",
            "Epoch 118/150\n",
            "52/52 [==============================] - 0s 3ms/step - loss: 0.5379 - accuracy: 0.7393 - val_loss: 0.5270 - val_accuracy: 0.7441\n",
            "Epoch 119/150\n",
            "52/52 [==============================] - 0s 3ms/step - loss: 0.5350 - accuracy: 0.7451 - val_loss: 0.5245 - val_accuracy: 0.7520\n",
            "Epoch 120/150\n",
            "52/52 [==============================] - 0s 2ms/step - loss: 0.5327 - accuracy: 0.7432 - val_loss: 0.5500 - val_accuracy: 0.7047\n",
            "Epoch 121/150\n",
            "52/52 [==============================] - 0s 2ms/step - loss: 0.5484 - accuracy: 0.7198 - val_loss: 0.6253 - val_accuracy: 0.6811\n",
            "Epoch 122/150\n",
            "52/52 [==============================] - 0s 3ms/step - loss: 0.5406 - accuracy: 0.7393 - val_loss: 0.5729 - val_accuracy: 0.7244\n",
            "Epoch 123/150\n",
            "52/52 [==============================] - 0s 3ms/step - loss: 0.5526 - accuracy: 0.7004 - val_loss: 0.5501 - val_accuracy: 0.7402\n",
            "Epoch 124/150\n",
            "52/52 [==============================] - 0s 2ms/step - loss: 0.5549 - accuracy: 0.7257 - val_loss: 0.5768 - val_accuracy: 0.7165\n",
            "Epoch 125/150\n",
            "52/52 [==============================] - 0s 2ms/step - loss: 0.5270 - accuracy: 0.7529 - val_loss: 0.5876 - val_accuracy: 0.7087\n",
            "Epoch 126/150\n",
            "52/52 [==============================] - 0s 3ms/step - loss: 0.5428 - accuracy: 0.7374 - val_loss: 0.5745 - val_accuracy: 0.7047\n",
            "Epoch 127/150\n",
            "52/52 [==============================] - 0s 3ms/step - loss: 0.5535 - accuracy: 0.7432 - val_loss: 0.5701 - val_accuracy: 0.7087\n",
            "Epoch 128/150\n",
            "52/52 [==============================] - 0s 3ms/step - loss: 0.5295 - accuracy: 0.7451 - val_loss: 0.5582 - val_accuracy: 0.7008\n",
            "Epoch 129/150\n",
            "52/52 [==============================] - 0s 3ms/step - loss: 0.5793 - accuracy: 0.7335 - val_loss: 0.5354 - val_accuracy: 0.7402\n",
            "Epoch 130/150\n",
            "52/52 [==============================] - 0s 3ms/step - loss: 0.5417 - accuracy: 0.7237 - val_loss: 0.5329 - val_accuracy: 0.7638\n",
            "Epoch 131/150\n",
            "52/52 [==============================] - 0s 3ms/step - loss: 0.5636 - accuracy: 0.7296 - val_loss: 0.5755 - val_accuracy: 0.7244\n",
            "Epoch 132/150\n",
            "52/52 [==============================] - 0s 2ms/step - loss: 0.6028 - accuracy: 0.7043 - val_loss: 0.5925 - val_accuracy: 0.6969\n",
            "Epoch 133/150\n",
            "52/52 [==============================] - 0s 3ms/step - loss: 0.5507 - accuracy: 0.7432 - val_loss: 0.5663 - val_accuracy: 0.7047\n",
            "Epoch 134/150\n",
            "52/52 [==============================] - 0s 2ms/step - loss: 0.5322 - accuracy: 0.7490 - val_loss: 0.6234 - val_accuracy: 0.7008\n",
            "Epoch 135/150\n",
            "52/52 [==============================] - 0s 3ms/step - loss: 0.5545 - accuracy: 0.7335 - val_loss: 0.5491 - val_accuracy: 0.7323\n",
            "Epoch 136/150\n",
            "52/52 [==============================] - 0s 2ms/step - loss: 0.5243 - accuracy: 0.7354 - val_loss: 0.6301 - val_accuracy: 0.6732\n",
            "Epoch 137/150\n",
            "52/52 [==============================] - 0s 3ms/step - loss: 0.5220 - accuracy: 0.7393 - val_loss: 0.5818 - val_accuracy: 0.7087\n",
            "Epoch 138/150\n",
            "52/52 [==============================] - 0s 3ms/step - loss: 0.5414 - accuracy: 0.7510 - val_loss: 0.5176 - val_accuracy: 0.7559\n",
            "Epoch 139/150\n",
            "52/52 [==============================] - 0s 3ms/step - loss: 0.5219 - accuracy: 0.7393 - val_loss: 0.5515 - val_accuracy: 0.7047\n",
            "Epoch 140/150\n",
            "52/52 [==============================] - 0s 3ms/step - loss: 0.5479 - accuracy: 0.7432 - val_loss: 0.5273 - val_accuracy: 0.7677\n",
            "Epoch 141/150\n",
            "52/52 [==============================] - 0s 2ms/step - loss: 0.5662 - accuracy: 0.7374 - val_loss: 0.5640 - val_accuracy: 0.7244\n",
            "Epoch 142/150\n",
            "52/52 [==============================] - 0s 3ms/step - loss: 0.5417 - accuracy: 0.7237 - val_loss: 0.5494 - val_accuracy: 0.7283\n",
            "Epoch 143/150\n",
            "52/52 [==============================] - 0s 3ms/step - loss: 0.5253 - accuracy: 0.7432 - val_loss: 0.5208 - val_accuracy: 0.7598\n",
            "Epoch 144/150\n",
            "52/52 [==============================] - 0s 3ms/step - loss: 0.5437 - accuracy: 0.7237 - val_loss: 0.5119 - val_accuracy: 0.7559\n",
            "Epoch 145/150\n",
            "52/52 [==============================] - 0s 2ms/step - loss: 0.5529 - accuracy: 0.7393 - val_loss: 0.5502 - val_accuracy: 0.7283\n",
            "Epoch 146/150\n",
            "52/52 [==============================] - 0s 2ms/step - loss: 0.5320 - accuracy: 0.7451 - val_loss: 0.5252 - val_accuracy: 0.7520\n",
            "Epoch 147/150\n",
            "52/52 [==============================] - 0s 2ms/step - loss: 0.5214 - accuracy: 0.7451 - val_loss: 0.5615 - val_accuracy: 0.7283\n",
            "Epoch 148/150\n",
            "52/52 [==============================] - 0s 3ms/step - loss: 0.5609 - accuracy: 0.7257 - val_loss: 0.7427 - val_accuracy: 0.5866\n",
            "Epoch 149/150\n",
            "52/52 [==============================] - 0s 2ms/step - loss: 0.5689 - accuracy: 0.7393 - val_loss: 0.5647 - val_accuracy: 0.7126\n",
            "Epoch 150/150\n",
            "52/52 [==============================] - 0s 2ms/step - loss: 0.5515 - accuracy: 0.7354 - val_loss: 0.5543 - val_accuracy: 0.7283\n"
          ]
        },
        {
          "output_type": "execute_result",
          "data": {
            "text/plain": [
              "<keras.callbacks.History at 0x7f1fc8254390>"
            ]
          },
          "metadata": {},
          "execution_count": 39
        }
      ]
    },
    {
      "cell_type": "code",
      "metadata": {
        "colab": {
          "base_uri": "https://localhost:8080/"
        },
        "id": "LThd-ief096m",
        "outputId": "4d58a0ba-ac2d-4e16-a9fc-3a7530e9231f"
      },
      "source": [
        "# evaluate the model\n",
        "scores = model.evaluate(X, Y)\n",
        "print(\"%s: %.2f%%\" % (model.metrics_names[1], scores[1]*100))"
      ],
      "execution_count": 40,
      "outputs": [
        {
          "output_type": "stream",
          "name": "stdout",
          "text": [
            "24/24 [==============================] - 0s 2ms/step - loss: 0.5555 - accuracy: 0.7240\n",
            "accuracy: 72.40%\n"
          ]
        }
      ]
    }
  ]
}