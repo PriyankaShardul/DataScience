{
  "nbformat": 4,
  "nbformat_minor": 0,
  "metadata": {
    "kernelspec": {
      "display_name": "Python 3",
      "language": "python",
      "name": "python3"
    },
    "language_info": {
      "codemirror_mode": {
        "name": "ipython",
        "version": 3
      },
      "file_extension": ".py",
      "mimetype": "text/x-python",
      "name": "python",
      "nbconvert_exporter": "python",
      "pygments_lexer": "ipython3",
      "version": "3.7.4"
    },
    "colab": {
      "name": "Named Entity Recognition_Emotion Mining.ipynb",
      "provenance": [],
      "include_colab_link": true
    }
  },
  "cells": [
    {
      "cell_type": "markdown",
      "metadata": {
        "id": "view-in-github",
        "colab_type": "text"
      },
      "source": [
        "<a href=\"https://colab.research.google.com/github/PriyankaShardul/DataScience/blob/main/Named_Entity_Recognition_Emotion_Mining.ipynb\" target=\"_parent\"><img src=\"https://colab.research.google.com/assets/colab-badge.svg\" alt=\"Open In Colab\"/></a>"
      ]
    },
    {
      "cell_type": "markdown",
      "metadata": {
        "id": "xsTrAsu0uwZf"
      },
      "source": [
        "#### Named Entity Recognition"
      ]
    },
    {
      "cell_type": "code",
      "metadata": {
        "id": "bdGcnJtnuwZt"
      },
      "source": [
        "import numpy as np # linear algebra\n",
        "import pandas as pd # data processing, CSV file I/O (e.g. pd.read_csv)\n",
        "import string # special operations on strings\n",
        "import spacy # language models\n",
        "\n",
        "from matplotlib.pyplot import imread\n",
        "from matplotlib import pyplot as plt\n",
        "from wordcloud import WordCloud\n",
        "%matplotlib inline"
      ],
      "execution_count": 1,
      "outputs": []
    },
    {
      "cell_type": "code",
      "metadata": {
        "colab": {
          "base_uri": "https://localhost:8080/"
        },
        "id": "xJh2O7tFuwZ0",
        "outputId": "ca891136-6630-4bda-b1ef-6076d00abe27"
      },
      "source": [
        "import pandas\n",
        "book=pd.read_csv(\"apple.txt\",error_bad_lines=False)"
      ],
      "execution_count": 2,
      "outputs": [
        {
          "output_type": "stream",
          "name": "stderr",
          "text": [
            "b'Skipping line 6: expected 1 fields, saw 14\\n'\n"
          ]
        }
      ]
    },
    {
      "cell_type": "code",
      "metadata": {
        "colab": {
          "base_uri": "https://localhost:8080/"
        },
        "id": "LwxG6thTuwZ3",
        "outputId": "8e46cbe8-3b89-415d-b3bd-12af2a5bab36"
      },
      "source": [
        "book = [x.strip() for x in book.x] # remove both the leading and the trailing characters\n",
        "book = [x for x in book if x] # removes empty strings, because they are considered in Python as False\n",
        "book[0:10]"
      ],
      "execution_count": 3,
      "outputs": [
        {
          "output_type": "execute_result",
          "data": {
            "text/plain": [
              "[\"It's amazing..... battery last around 10 -12 hrs.....best mobile for students\",\n",
              " \"Finally Got it in 50k in Diwali sale. Technically good mobile.Good News.luxury product, niche technology, good battery life, reliable (other mobile crash and become defunct in 6-10 years), no anti-virus required, security of data and transactions much better. Terrific sense of possession & pride.Bad News. Problems will be there if you are switching from windows based system - very less space in hard disk, no CD drive, inability to transfer data from Mac to your existing external hard disc unless you format it, apps are mostly paid and re unreasonably expensive (no free apps which are available otherwise on google play store, even the angry bird costs Rs 400 !!), all printers are not compatible (e.g. the most economical MFD laser printer RICOH SP 111 can't be used), huge compatibility issues with Pages (MS Word) and Keynote (powerpoint) unless you master it by working on these (still mostly the document and slides either do not open in windows environment or have distortion issues). you need to spend extra for an external CD writer and tp buy a carry bag. Mac con not be connected to most of the projectors unless you buy some connectors, which are expensive and theres no clarity which one to buy and from where. you can't connect it to your TV, the ports are different and again theres no clarity - customer support, manuals or help section are silent ! Marketing strategy for Indian market, if at all has been planned, has been very bad. If these critical issues (and a few more not mentioned here) are handled properly, the Mac can sweep away other laptops in India. Presently, it doesn't seem to be happening.Overall Verdict.If compatibility issues mentioned above do not bother you, go for it. Else, think hard.  If its an emotional issue to own a long cherished Mac, then its a different thing. Go ahead and gradually you would figure out most (but not all) of the above problems, like I did.\",\n",
              " \"Best Laptop under 60k. If you don't want any accounting softwares like tally or busy then go for it, better than windows in every term. I just love it's battery life with sleek look 😍Now talking about MS officeIt's available on app store, free for 1 monthAfter that you will have to pay.You cannot install pirated version but if you install Windows 7 or any other version then u can use Ms office for freeBut in MacBook there are other apps which are good substitute for Ms office appsNumbers for ExcelPages for wordKeynote for PowerPointAnd you can convert your numbers file to Excel file or csv fileSame for the pages & keynoteSo no need of Ms office for me.Cons1. U cannot play games, your laptop will just heat up, battery will drain* U cannot play pubg mobile on emulator if you are pubg lover😁2. Storage 128gb, it will work fine but if you want to store movies or TV shows u can't, u have to buy external hard disk\",\n",
              " 'Pros:1. Light weight and super fast response time2. Highly optimize which avoids any kind of process lag.3. Beautiful looks and feels like a prime product.4. Long battery life and awesome sound clarity5. Purchased during Amazon sale cost around 52k.Cons:1. Not enough memory2. Limited softwares available3. Operating system is not that user-friendlyProbably one of the best option for 50k+ laptops',\n",
              " '\"',\n",
              " 'I am very upset about the product as I checked my MacBook 15 days back in December, it didn’t start. It was luckily in warranty . I took it to the service centre and they informed me the mother board and battery collapsed. If it was not in warranty I had to pay 47000/. I asked for replacement of the product and I was refused. They got it fixed for me. I don’t know why should I pay 57000/ for Mac quality. If this is the quality and the service, then I have to go to other product. In January my product expiry was due. They have give an extension of 3 months warranty when I had asked for 1 year. Very disappointed.',\n",
              " 'Reason for 1 star is I ot an defective piece. The sound quality was not good . My laptop started giving issues with power button from  4 months. The screen would flicker and it would shutdown automatically after sometime. Took the mac to service centre. They replaced the motherboard free of cost as it was in warranty. Now my mac is perfectly fine :',\n",
              " 'Got the Apple Macbook air on amazon discount sale.1) The OS is smooth and is a breeze to work with. Ships with macOS sierra but update is available to macOS mojave2) The design and build quality, as you can expect from an apple product is top notch.3) Excellen sound quality, keyboard.Cons:1) 128GB may be low incase you want to have movies and media in your laptop.You need to carry around a hard disk that kind of nullifies the advantage of having a light weight laptop.2) Display resolution is not exactly upto the mark',\n",
              " 'White line coming on screen in just three months of purchase from amazon. Doubting the quality of the products sold on amazon',\n",
              " 'Bought this product recently on 5 April, was working perfectly fine for few days and on 16 April the Mac working charge or turn on. Apple service centre says they can’t fix the product under warranty and amazon in try to come up with a solution ever since , no solid answer . I m stuck with a dead mac after using it for 10days. Request seller , Amazon or apple to take full responsibility.']"
            ]
          },
          "metadata": {},
          "execution_count": 3
        }
      ]
    },
    {
      "cell_type": "code",
      "metadata": {
        "colab": {
          "base_uri": "https://localhost:8080/",
          "height": 258
        },
        "id": "diPKi4AouwZ7",
        "outputId": "9f684dc0-4e69-4f0f-c985-a82f8d4f0977"
      },
      "source": [
        "##Part Of Speech Tagging\n",
        "nlp = spacy.load('en')\n",
        "\n",
        "one_block = book[2]\n",
        "doc_block = nlp(one_block)\n",
        "spacy.displacy.render(doc_block, style='ent', jupyter=True)"
      ],
      "execution_count": 4,
      "outputs": [
        {
          "output_type": "display_data",
          "data": {
            "text/html": [
              "<span class=\"tex2jax_ignore\"><div class=\"entities\" style=\"line-height: 2.5; direction: ltr\">Best Laptop \n",
              "<mark class=\"entity\" style=\"background: #bfe1d9; padding: 0.45em 0.6em; margin: 0 0.25em; line-height: 1; border-radius: 0.35em;\">\n",
              "    under 60k\n",
              "    <span style=\"font-size: 0.8em; font-weight: bold; line-height: 1; border-radius: 0.35em; text-transform: uppercase; vertical-align: middle; margin-left: 0.5rem\">DATE</span>\n",
              "</mark>\n",
              ". If you don't want any accounting softwares like tally or busy then go for it, better than windows in every term. I just love it's battery life with sleek look 😍Now talking about \n",
              "<mark class=\"entity\" style=\"background: #7aecec; padding: 0.45em 0.6em; margin: 0 0.25em; line-height: 1; border-radius: 0.35em;\">\n",
              "    MS officeIt's\n",
              "    <span style=\"font-size: 0.8em; font-weight: bold; line-height: 1; border-radius: 0.35em; text-transform: uppercase; vertical-align: middle; margin-left: 0.5rem\">ORG</span>\n",
              "</mark>\n",
              " available on app store, free for \n",
              "<mark class=\"entity\" style=\"background: #e4e7d2; padding: 0.45em 0.6em; margin: 0 0.25em; line-height: 1; border-radius: 0.35em;\">\n",
              "    1\n",
              "    <span style=\"font-size: 0.8em; font-weight: bold; line-height: 1; border-radius: 0.35em; text-transform: uppercase; vertical-align: middle; margin-left: 0.5rem\">CARDINAL</span>\n",
              "</mark>\n",
              " monthAfter that you will have to pay.You cannot install pirated version but if you install Windows 7 or any other version then u can use Ms office for \n",
              "<mark class=\"entity\" style=\"background: #ddd; padding: 0.45em 0.6em; margin: 0 0.25em; line-height: 1; border-radius: 0.35em;\">\n",
              "    freeBut\n",
              "    <span style=\"font-size: 0.8em; font-weight: bold; line-height: 1; border-radius: 0.35em; text-transform: uppercase; vertical-align: middle; margin-left: 0.5rem\">FAC</span>\n",
              "</mark>\n",
              " in \n",
              "<mark class=\"entity\" style=\"background: #f0d0ff; padding: 0.45em 0.6em; margin: 0 0.25em; line-height: 1; border-radius: 0.35em;\">\n",
              "    MacBook\n",
              "    <span style=\"font-size: 0.8em; font-weight: bold; line-height: 1; border-radius: 0.35em; text-transform: uppercase; vertical-align: middle; margin-left: 0.5rem\">WORK_OF_ART</span>\n",
              "</mark>\n",
              " there are other apps which are good substitute for \n",
              "<mark class=\"entity\" style=\"background: #aa9cfc; padding: 0.45em 0.6em; margin: 0 0.25em; line-height: 1; border-radius: 0.35em;\">\n",
              "    Ms\n",
              "    <span style=\"font-size: 0.8em; font-weight: bold; line-height: 1; border-radius: 0.35em; text-transform: uppercase; vertical-align: middle; margin-left: 0.5rem\">PERSON</span>\n",
              "</mark>\n",
              " office appsNumbers for \n",
              "<mark class=\"entity\" style=\"background: #7aecec; padding: 0.45em 0.6em; margin: 0 0.25em; line-height: 1; border-radius: 0.35em;\">\n",
              "    ExcelPages\n",
              "    <span style=\"font-size: 0.8em; font-weight: bold; line-height: 1; border-radius: 0.35em; text-transform: uppercase; vertical-align: middle; margin-left: 0.5rem\">ORG</span>\n",
              "</mark>\n",
              " for wordKeynote for PowerPointAnd you can convert your numbers file to \n",
              "<mark class=\"entity\" style=\"background: #7aecec; padding: 0.45em 0.6em; margin: 0 0.25em; line-height: 1; border-radius: 0.35em;\">\n",
              "    Excel\n",
              "    <span style=\"font-size: 0.8em; font-weight: bold; line-height: 1; border-radius: 0.35em; text-transform: uppercase; vertical-align: middle; margin-left: 0.5rem\">ORG</span>\n",
              "</mark>\n",
              " file or csv fileSame for the pages &amp; \n",
              "<mark class=\"entity\" style=\"background: #e4e7d2; padding: 0.45em 0.6em; margin: 0 0.25em; line-height: 1; border-radius: 0.35em;\">\n",
              "    keynoteSo\n",
              "    <span style=\"font-size: 0.8em; font-weight: bold; line-height: 1; border-radius: 0.35em; text-transform: uppercase; vertical-align: middle; margin-left: 0.5rem\">CARDINAL</span>\n",
              "</mark>\n",
              " no need of \n",
              "<mark class=\"entity\" style=\"background: #c887fb; padding: 0.45em 0.6em; margin: 0 0.25em; line-height: 1; border-radius: 0.35em;\">\n",
              "    Ms\n",
              "    <span style=\"font-size: 0.8em; font-weight: bold; line-height: 1; border-radius: 0.35em; text-transform: uppercase; vertical-align: middle; margin-left: 0.5rem\">NORP</span>\n",
              "</mark>\n",
              " office for me.Cons1. U cannot play games, your laptop will just heat up, battery will drain* U cannot play pubg mobile on emulator if you are pubg lover😁\n",
              "<mark class=\"entity\" style=\"background: #e4e7d2; padding: 0.45em 0.6em; margin: 0 0.25em; line-height: 1; border-radius: 0.35em;\">\n",
              "    2\n",
              "    <span style=\"font-size: 0.8em; font-weight: bold; line-height: 1; border-radius: 0.35em; text-transform: uppercase; vertical-align: middle; margin-left: 0.5rem\">CARDINAL</span>\n",
              "</mark>\n",
              ". Storage \n",
              "<mark class=\"entity\" style=\"background: #e4e7d2; padding: 0.45em 0.6em; margin: 0 0.25em; line-height: 1; border-radius: 0.35em;\">\n",
              "    128\n",
              "    <span style=\"font-size: 0.8em; font-weight: bold; line-height: 1; border-radius: 0.35em; text-transform: uppercase; vertical-align: middle; margin-left: 0.5rem\">CARDINAL</span>\n",
              "</mark>\n",
              "gb, it will work fine but if you want to store movies or TV shows u can't, u have to buy external hard disk</div></span>"
            ],
            "text/plain": [
              "<IPython.core.display.HTML object>"
            ]
          },
          "metadata": {}
        }
      ]
    },
    {
      "cell_type": "code",
      "metadata": {
        "colab": {
          "base_uri": "https://localhost:8080/",
          "height": 136
        },
        "id": "OKw2zZFFuwZ9",
        "outputId": "68750fc7-6d2f-4f6f-dc7f-eca317e3053f"
      },
      "source": [
        "one_block"
      ],
      "execution_count": 5,
      "outputs": [
        {
          "output_type": "execute_result",
          "data": {
            "application/vnd.google.colaboratory.intrinsic+json": {
              "type": "string"
            },
            "text/plain": [
              "\"Best Laptop under 60k. If you don't want any accounting softwares like tally or busy then go for it, better than windows in every term. I just love it's battery life with sleek look 😍Now talking about MS officeIt's available on app store, free for 1 monthAfter that you will have to pay.You cannot install pirated version but if you install Windows 7 or any other version then u can use Ms office for freeBut in MacBook there are other apps which are good substitute for Ms office appsNumbers for ExcelPages for wordKeynote for PowerPointAnd you can convert your numbers file to Excel file or csv fileSame for the pages & keynoteSo no need of Ms office for me.Cons1. U cannot play games, your laptop will just heat up, battery will drain* U cannot play pubg mobile on emulator if you are pubg lover😁2. Storage 128gb, it will work fine but if you want to store movies or TV shows u can't, u have to buy external hard disk\""
            ]
          },
          "metadata": {},
          "execution_count": 5
        }
      ]
    },
    {
      "cell_type": "code",
      "metadata": {
        "colab": {
          "base_uri": "https://localhost:8080/"
        },
        "id": "vsA1IwJduwZ_",
        "outputId": "fd3972f0-bcac-41bd-c402-4c079b8d616f"
      },
      "source": [
        "for token in doc_block[0:20]:\n",
        "    print(token, token.pos_)"
      ],
      "execution_count": 6,
      "outputs": [
        {
          "output_type": "stream",
          "name": "stdout",
          "text": [
            "Best ADJ\n",
            "Laptop NOUN\n",
            "under ADP\n",
            "60k NOUN\n",
            ". PUNCT\n",
            "If SCONJ\n",
            "you PRON\n",
            "do AUX\n",
            "n't PART\n",
            "want VERB\n",
            "any DET\n",
            "accounting NOUN\n",
            "softwares NOUN\n",
            "like SCONJ\n",
            "tally NOUN\n",
            "or CCONJ\n",
            "busy ADJ\n",
            "then ADV\n",
            "go VERB\n",
            "for ADP\n"
          ]
        }
      ]
    },
    {
      "cell_type": "code",
      "metadata": {
        "colab": {
          "base_uri": "https://localhost:8080/"
        },
        "id": "trDgjOYCuwaC",
        "outputId": "4deea3c3-51af-4e65-c575-47ad87395bb3"
      },
      "source": [
        "#Filtering for nouns and verbs only\n",
        "nouns_verbs = [token.text for token in doc_block if token.pos_ in ('NOUN', 'VERB')]\n",
        "print(nouns_verbs[5:25])"
      ],
      "execution_count": 7,
      "outputs": [
        {
          "output_type": "stream",
          "name": "stdout",
          "text": [
            "['tally', 'go', 'windows', 'term', 'love', 'battery', 'life', 'look', '😍', 'talking', 'app', 'store', 'monthAfter', 'will', 'pay', 'can', 'install', 'version', 'install', 'version']\n"
          ]
        }
      ]
    },
    {
      "cell_type": "code",
      "metadata": {
        "colab": {
          "base_uri": "https://localhost:8080/",
          "height": 357
        },
        "id": "7mKFPyoyuwaG",
        "outputId": "83227514-b625-4143-bbb2-2d7ae66dae14"
      },
      "source": [
        "#Counting tokens again\n",
        "from sklearn.feature_extraction.text import CountVectorizer\n",
        "cv = CountVectorizer()\n",
        "\n",
        "X = cv.fit_transform(nouns_verbs)\n",
        "sum_words = X.sum(axis=0)\n",
        "words_freq = [(word, sum_words[0, idx]) for word, idx in cv.vocabulary_.items()]\n",
        "words_freq =sorted(words_freq, key = lambda x: x[1], reverse=True)\n",
        "wf_df = pd.DataFrame(words_freq)\n",
        "wf_df.columns = ['word', 'count']\n",
        "\n",
        "wf_df[0:10]"
      ],
      "execution_count": 8,
      "outputs": [
        {
          "output_type": "execute_result",
          "data": {
            "text/html": [
              "<div>\n",
              "<style scoped>\n",
              "    .dataframe tbody tr th:only-of-type {\n",
              "        vertical-align: middle;\n",
              "    }\n",
              "\n",
              "    .dataframe tbody tr th {\n",
              "        vertical-align: top;\n",
              "    }\n",
              "\n",
              "    .dataframe thead th {\n",
              "        text-align: right;\n",
              "    }\n",
              "</style>\n",
              "<table border=\"1\" class=\"dataframe\">\n",
              "  <thead>\n",
              "    <tr style=\"text-align: right;\">\n",
              "      <th></th>\n",
              "      <th>word</th>\n",
              "      <th>count</th>\n",
              "    </tr>\n",
              "  </thead>\n",
              "  <tbody>\n",
              "    <tr>\n",
              "      <th>0</th>\n",
              "      <td>can</td>\n",
              "      <td>5</td>\n",
              "    </tr>\n",
              "    <tr>\n",
              "      <th>1</th>\n",
              "      <td>will</td>\n",
              "      <td>4</td>\n",
              "    </tr>\n",
              "    <tr>\n",
              "      <th>2</th>\n",
              "      <td>office</td>\n",
              "      <td>3</td>\n",
              "    </tr>\n",
              "    <tr>\n",
              "      <th>3</th>\n",
              "      <td>laptop</td>\n",
              "      <td>2</td>\n",
              "    </tr>\n",
              "    <tr>\n",
              "      <th>4</th>\n",
              "      <td>want</td>\n",
              "      <td>2</td>\n",
              "    </tr>\n",
              "    <tr>\n",
              "      <th>5</th>\n",
              "      <td>battery</td>\n",
              "      <td>2</td>\n",
              "    </tr>\n",
              "    <tr>\n",
              "      <th>6</th>\n",
              "      <td>store</td>\n",
              "      <td>2</td>\n",
              "    </tr>\n",
              "    <tr>\n",
              "      <th>7</th>\n",
              "      <td>install</td>\n",
              "      <td>2</td>\n",
              "    </tr>\n",
              "    <tr>\n",
              "      <th>8</th>\n",
              "      <td>version</td>\n",
              "      <td>2</td>\n",
              "    </tr>\n",
              "    <tr>\n",
              "      <th>9</th>\n",
              "      <td>file</td>\n",
              "      <td>2</td>\n",
              "    </tr>\n",
              "  </tbody>\n",
              "</table>\n",
              "</div>"
            ],
            "text/plain": [
              "      word  count\n",
              "0      can      5\n",
              "1     will      4\n",
              "2   office      3\n",
              "3   laptop      2\n",
              "4     want      2\n",
              "5  battery      2\n",
              "6    store      2\n",
              "7  install      2\n",
              "8  version      2\n",
              "9     file      2"
            ]
          },
          "metadata": {},
          "execution_count": 8
        }
      ]
    },
    {
      "cell_type": "code",
      "metadata": {
        "colab": {
          "base_uri": "https://localhost:8080/",
          "height": 556
        },
        "id": "kxGvXr5ruwaK",
        "outputId": "be12ce61-d051-43c6-c21d-3cd7e5b1dcaa"
      },
      "source": [
        "##Visualizing results\n",
        "#Barchart for top 10 nouns + verbs\n",
        "wf_df[0:10].plot.bar(x='word', figsize=(12,8), title='Top verbs and nouns')"
      ],
      "execution_count": 9,
      "outputs": [
        {
          "output_type": "execute_result",
          "data": {
            "text/plain": [
              "<matplotlib.axes._subplots.AxesSubplot at 0x7f2f8ae4a750>"
            ]
          },
          "metadata": {},
          "execution_count": 9
        },
        {
          "output_type": "display_data",
          "data": {
            "image/png": "[encoded data removed]",
            "text/plain": [
              "<Figure size 864x576 with 1 Axes>"
            ]
          },
          "metadata": {
            "needs_background": "light"
          }
        }
      ]
    },
    {
      "cell_type": "markdown",
      "metadata": {
        "id": "bBHokB6TuwaM"
      },
      "source": [
        "#### Emotion Mining"
      ]
    },
    {
      "cell_type": "code",
      "metadata": {
        "colab": {
          "base_uri": "https://localhost:8080/"
        },
        "id": "_8YfIuNOuwaO",
        "outputId": "9e507436-fc6e-42b8-91e1-cc9e785c1275"
      },
      "source": [
        "#Sentiment analysis\n",
        "afinn = pd.read_csv('/content/Afinn.csv', sep=',', encoding='latin-1')\n",
        "afinn.shape"
      ],
      "execution_count": 11,
      "outputs": [
        {
          "output_type": "execute_result",
          "data": {
            "text/plain": [
              "(2477, 2)"
            ]
          },
          "metadata": {},
          "execution_count": 11
        }
      ]
    },
    {
      "cell_type": "code",
      "metadata": {
        "colab": {
          "base_uri": "https://localhost:8080/",
          "height": 417
        },
        "id": "h7cJ3V4yuwaR",
        "outputId": "c3b10fc8-295c-4537-8051-bc7faf06e87e"
      },
      "source": [
        "afinn"
      ],
      "execution_count": 13,
      "outputs": [
        {
          "output_type": "execute_result",
          "data": {
            "text/html": [
              "<div>\n",
              "<style scoped>\n",
              "    .dataframe tbody tr th:only-of-type {\n",
              "        vertical-align: middle;\n",
              "    }\n",
              "\n",
              "    .dataframe tbody tr th {\n",
              "        vertical-align: top;\n",
              "    }\n",
              "\n",
              "    .dataframe thead th {\n",
              "        text-align: right;\n",
              "    }\n",
              "</style>\n",
              "<table border=\"1\" class=\"dataframe\">\n",
              "  <thead>\n",
              "    <tr style=\"text-align: right;\">\n",
              "      <th></th>\n",
              "      <th>word</th>\n",
              "      <th>value</th>\n",
              "    </tr>\n",
              "  </thead>\n",
              "  <tbody>\n",
              "    <tr>\n",
              "      <th>0</th>\n",
              "      <td>abandon</td>\n",
              "      <td>-2</td>\n",
              "    </tr>\n",
              "    <tr>\n",
              "      <th>1</th>\n",
              "      <td>abandoned</td>\n",
              "      <td>-2</td>\n",
              "    </tr>\n",
              "    <tr>\n",
              "      <th>2</th>\n",
              "      <td>abandons</td>\n",
              "      <td>-2</td>\n",
              "    </tr>\n",
              "    <tr>\n",
              "      <th>3</th>\n",
              "      <td>abducted</td>\n",
              "      <td>-2</td>\n",
              "    </tr>\n",
              "    <tr>\n",
              "      <th>4</th>\n",
              "      <td>abduction</td>\n",
              "      <td>-2</td>\n",
              "    </tr>\n",
              "    <tr>\n",
              "      <th>...</th>\n",
              "      <td>...</td>\n",
              "      <td>...</td>\n",
              "    </tr>\n",
              "    <tr>\n",
              "      <th>2472</th>\n",
              "      <td>yucky</td>\n",
              "      <td>-2</td>\n",
              "    </tr>\n",
              "    <tr>\n",
              "      <th>2473</th>\n",
              "      <td>yummy</td>\n",
              "      <td>3</td>\n",
              "    </tr>\n",
              "    <tr>\n",
              "      <th>2474</th>\n",
              "      <td>zealot</td>\n",
              "      <td>-2</td>\n",
              "    </tr>\n",
              "    <tr>\n",
              "      <th>2475</th>\n",
              "      <td>zealots</td>\n",
              "      <td>-2</td>\n",
              "    </tr>\n",
              "    <tr>\n",
              "      <th>2476</th>\n",
              "      <td>zealous</td>\n",
              "      <td>2</td>\n",
              "    </tr>\n",
              "  </tbody>\n",
              "</table>\n",
              "<p>2477 rows × 2 columns</p>\n",
              "</div>"
            ],
            "text/plain": [
              "           word  value\n",
              "0       abandon     -2\n",
              "1     abandoned     -2\n",
              "2      abandons     -2\n",
              "3      abducted     -2\n",
              "4     abduction     -2\n",
              "...         ...    ...\n",
              "2472      yucky     -2\n",
              "2473      yummy      3\n",
              "2474     zealot     -2\n",
              "2475    zealots     -2\n",
              "2476    zealous      2\n",
              "\n",
              "[2477 rows x 2 columns]"
            ]
          },
          "metadata": {},
          "execution_count": 13
        }
      ]
    },
    {
      "cell_type": "code",
      "metadata": {
        "colab": {
          "base_uri": "https://localhost:8080/"
        },
        "id": "CSZuMDCCuwaU",
        "outputId": "d7d3cd0d-3a83-472d-dd46-b8d8736df4d5"
      },
      "source": [
        "import numpy as np # linear algebra\n",
        "import pandas as pd # data processing, CSV file I/O (e.g. pd.read_csv)\n",
        "import string # special operations on strings\n",
        "import spacy # language models\n",
        "\n",
        "from matplotlib.pyplot import imread\n",
        "from matplotlib import pyplot as plt\n",
        "from wordcloud import WordCloud\n",
        "%matplotlib inline\n",
        "\n",
        "import pandas\n",
        "book=pd.read_csv(\"apple.txt\",error_bad_lines=False)\n",
        "book = [x.strip() for x in book.x] # remove both the leading and the trailing characters\n",
        "book = [x for x in book if x] # removes empty strings, because they are considered in Python as False"
      ],
      "execution_count": 14,
      "outputs": [
        {
          "output_type": "stream",
          "name": "stderr",
          "text": [
            "b'Skipping line 6: expected 1 fields, saw 14\\n'\n"
          ]
        }
      ]
    },
    {
      "cell_type": "code",
      "metadata": {
        "colab": {
          "base_uri": "https://localhost:8080/"
        },
        "id": "o9fqHSlOwCpx",
        "outputId": "72389fe5-5462-40c8-e500-1ef689d9bfb1"
      },
      "source": [
        "import nltk\n",
        "nltk.download('punkt')"
      ],
      "execution_count": 16,
      "outputs": [
        {
          "output_type": "stream",
          "name": "stdout",
          "text": [
            "[nltk_data] Downloading package punkt to /root/nltk_data...\n",
            "[nltk_data]   Unzipping tokenizers/punkt.zip.\n"
          ]
        },
        {
          "output_type": "execute_result",
          "data": {
            "text/plain": [
              "True"
            ]
          },
          "metadata": {},
          "execution_count": 16
        }
      ]
    },
    {
      "cell_type": "code",
      "metadata": {
        "colab": {
          "base_uri": "https://localhost:8080/"
        },
        "id": "SqCXBM1PuwaW",
        "outputId": "1c4855e9-023e-41be-f6c3-b504c24b561f"
      },
      "source": [
        "from nltk import tokenize\n",
        "sentences = tokenize.sent_tokenize(\" \".join(book))\n",
        "sentences[5:15]"
      ],
      "execution_count": 17,
      "outputs": [
        {
          "output_type": "execute_result",
          "data": {
            "text/plain": [
              "[\"the most economical MFD laser printer RICOH SP 111 can't be used), huge compatibility issues with Pages (MS Word) and Keynote (powerpoint) unless you master it by working on these (still mostly the document and slides either do not open in windows environment or have distortion issues).\",\n",
              " 'you need to spend extra for an external CD writer and tp buy a carry bag.',\n",
              " 'Mac con not be connected to most of the projectors unless you buy some connectors, which are expensive and theres no clarity which one to buy and from where.',\n",
              " \"you can't connect it to your TV, the ports are different and again theres no clarity - customer support, manuals or help section are silent !\",\n",
              " 'Marketing strategy for Indian market, if at all has been planned, has been very bad.',\n",
              " 'If these critical issues (and a few more not mentioned here) are handled properly, the Mac can sweep away other laptops in India.',\n",
              " \"Presently, it doesn't seem to be happening.Overall Verdict.If compatibility issues mentioned above do not bother you, go for it.\",\n",
              " 'Else, think hard.',\n",
              " 'If its an emotional issue to own a long cherished Mac, then its a different thing.',\n",
              " 'Go ahead and gradually you would figure out most (but not all) of the above problems, like I did.']"
            ]
          },
          "metadata": {},
          "execution_count": 17
        }
      ]
    },
    {
      "cell_type": "code",
      "metadata": {
        "colab": {
          "base_uri": "https://localhost:8080/",
          "height": 417
        },
        "id": "EpzfdGR4uwaW",
        "outputId": "42e8fb0e-cbc5-49e9-ecc2-7ce14ea5b05d"
      },
      "source": [
        "sent_df = pd.DataFrame(sentences, columns=['sentence'])\n",
        "sent_df"
      ],
      "execution_count": 18,
      "outputs": [
        {
          "output_type": "execute_result",
          "data": {
            "text/html": [
              "<div>\n",
              "<style scoped>\n",
              "    .dataframe tbody tr th:only-of-type {\n",
              "        vertical-align: middle;\n",
              "    }\n",
              "\n",
              "    .dataframe tbody tr th {\n",
              "        vertical-align: top;\n",
              "    }\n",
              "\n",
              "    .dataframe thead th {\n",
              "        text-align: right;\n",
              "    }\n",
              "</style>\n",
              "<table border=\"1\" class=\"dataframe\">\n",
              "  <thead>\n",
              "    <tr style=\"text-align: right;\">\n",
              "      <th></th>\n",
              "      <th>sentence</th>\n",
              "    </tr>\n",
              "  </thead>\n",
              "  <tbody>\n",
              "    <tr>\n",
              "      <th>0</th>\n",
              "      <td>It's amazing..... battery last around 10 -12 h...</td>\n",
              "    </tr>\n",
              "    <tr>\n",
              "      <th>1</th>\n",
              "      <td>Technically good mobile.Good News.luxury produ...</td>\n",
              "    </tr>\n",
              "    <tr>\n",
              "      <th>2</th>\n",
              "      <td>Terrific sense of possession &amp; pride.Bad News.</td>\n",
              "    </tr>\n",
              "    <tr>\n",
              "      <th>3</th>\n",
              "      <td>Problems will be there if you are switching fr...</td>\n",
              "    </tr>\n",
              "    <tr>\n",
              "      <th>4</th>\n",
              "      <td>), all printers are not compatible (e.g.</td>\n",
              "    </tr>\n",
              "    <tr>\n",
              "      <th>...</th>\n",
              "      <td>...</td>\n",
              "    </tr>\n",
              "    <tr>\n",
              "      <th>181</th>\n",
              "      <td>You can get one of the best movie experiences ...</td>\n",
              "    </tr>\n",
              "    <tr>\n",
              "      <th>182</th>\n",
              "      <td>Overall I would it a 4.5/5.</td>\n",
              "    </tr>\n",
              "    <tr>\n",
              "      <th>183</th>\n",
              "      <td>I got a great deal on this laptop, which I hav...</td>\n",
              "    </tr>\n",
              "    <tr>\n",
              "      <th>184</th>\n",
              "      <td>I got it not only on discount but also was abl...</td>\n",
              "    </tr>\n",
              "    <tr>\n",
              "      <th>185</th>\n",
              "      <td>Laptop works really well, it was a good purchase!</td>\n",
              "    </tr>\n",
              "  </tbody>\n",
              "</table>\n",
              "<p>186 rows × 1 columns</p>\n",
              "</div>"
            ],
            "text/plain": [
              "                                              sentence\n",
              "0    It's amazing..... battery last around 10 -12 h...\n",
              "1    Technically good mobile.Good News.luxury produ...\n",
              "2       Terrific sense of possession & pride.Bad News.\n",
              "3    Problems will be there if you are switching fr...\n",
              "4             ), all printers are not compatible (e.g.\n",
              "..                                                 ...\n",
              "181  You can get one of the best movie experiences ...\n",
              "182                        Overall I would it a 4.5/5.\n",
              "183  I got a great deal on this laptop, which I hav...\n",
              "184  I got it not only on discount but also was abl...\n",
              "185  Laptop works really well, it was a good purchase!\n",
              "\n",
              "[186 rows x 1 columns]"
            ]
          },
          "metadata": {},
          "execution_count": 18
        }
      ]
    },
    {
      "cell_type": "code",
      "metadata": {
        "id": "Vw9YkTGguwaY"
      },
      "source": [
        "affinity_scores = afinn.set_index('word')['value'].to_dict()"
      ],
      "execution_count": 19,
      "outputs": []
    },
    {
      "cell_type": "code",
      "metadata": {
        "colab": {
          "base_uri": "https://localhost:8080/"
        },
        "id": "sjLxOat_wOtX",
        "outputId": "ba1f79b1-6602-4c39-a748-38d2183ac37d"
      },
      "source": [
        "affinity_scores"
      ],
      "execution_count": 20,
      "outputs": [
        {
          "output_type": "execute_result",
          "data": {
            "text/plain": [
              "{'abandon': -2,\n",
              " 'abandoned': -2,\n",
              " 'abandons': -2,\n",
              " 'abducted': -2,\n",
              " 'abduction': -2,\n",
              " 'abductions': -2,\n",
              " 'abhor': -3,\n",
              " 'abhorred': -3,\n",
              " 'abhorrent': -3,\n",
              " 'abhors': -3,\n",
              " 'abilities': 2,\n",
              " 'ability': 2,\n",
              " 'aboard': 1,\n",
              " 'absentee': -1,\n",
              " 'absentees': -1,\n",
              " 'absolve': 2,\n",
              " 'absolved': 2,\n",
              " 'absolves': 2,\n",
              " 'absolving': 2,\n",
              " 'absorbed': 1,\n",
              " 'abuse': -3,\n",
              " 'abused': -3,\n",
              " 'abuses': -3,\n",
              " 'abusive': -3,\n",
              " 'accept': 1,\n",
              " 'accepted': 1,\n",
              " 'accepting': 1,\n",
              " 'accepts': 1,\n",
              " 'accident': -2,\n",
              " 'accidental': -2,\n",
              " 'accidentally': -2,\n",
              " 'accidents': -2,\n",
              " 'accomplish': 2,\n",
              " 'accomplished': 2,\n",
              " 'accomplishes': 2,\n",
              " 'accusation': -2,\n",
              " 'accusations': -2,\n",
              " 'accuse': -2,\n",
              " 'accused': -2,\n",
              " 'accuses': -2,\n",
              " 'accusing': -2,\n",
              " 'ache': -2,\n",
              " 'achievable': 1,\n",
              " 'aching': -2,\n",
              " 'acquit': 2,\n",
              " 'acquits': 2,\n",
              " 'acquitted': 2,\n",
              " 'acquitting': 2,\n",
              " 'acrimonious': -3,\n",
              " 'active': 1,\n",
              " 'adequate': 1,\n",
              " 'admire': 3,\n",
              " 'admired': 3,\n",
              " 'admires': 3,\n",
              " 'admiring': 3,\n",
              " 'admit': -1,\n",
              " 'admits': -1,\n",
              " 'admitted': -1,\n",
              " 'admonish': -2,\n",
              " 'admonished': -2,\n",
              " 'adopt': 1,\n",
              " 'adopts': 1,\n",
              " 'adorable': 3,\n",
              " 'adore': 3,\n",
              " 'adored': 3,\n",
              " 'adores': 3,\n",
              " 'advanced': 1,\n",
              " 'advantage': 2,\n",
              " 'advantages': 2,\n",
              " 'adventure': 2,\n",
              " 'adventures': 2,\n",
              " 'adventurous': 2,\n",
              " 'affected': -1,\n",
              " 'affection': 3,\n",
              " 'affectionate': 3,\n",
              " 'afflicted': -1,\n",
              " 'affronted': -1,\n",
              " 'afraid': -2,\n",
              " 'aggravate': -2,\n",
              " 'aggravated': -2,\n",
              " 'aggravates': -2,\n",
              " 'aggravating': -2,\n",
              " 'aggression': -2,\n",
              " 'aggressions': -2,\n",
              " 'aggressive': -2,\n",
              " 'aghast': -2,\n",
              " 'agog': 2,\n",
              " 'agonise': -3,\n",
              " 'agonised': -3,\n",
              " 'agonises': -3,\n",
              " 'agonising': -3,\n",
              " 'agonize': -3,\n",
              " 'agonized': -3,\n",
              " 'agonizes': -3,\n",
              " 'agonizing': -3,\n",
              " 'agree': 1,\n",
              " 'agreeable': 2,\n",
              " 'agreed': 1,\n",
              " 'agreement': 1,\n",
              " 'agrees': 1,\n",
              " 'alarm': -2,\n",
              " 'alarmed': -2,\n",
              " 'alarmist': -2,\n",
              " 'alarmists': -2,\n",
              " 'alas': -1,\n",
              " 'alert': -1,\n",
              " 'alienation': -2,\n",
              " 'alive': 1,\n",
              " 'allergic': -2,\n",
              " 'allow': 1,\n",
              " 'alone': -2,\n",
              " 'amaze': 2,\n",
              " 'amazed': 2,\n",
              " 'amazes': 2,\n",
              " 'amazing': 4,\n",
              " 'ambitious': 2,\n",
              " 'ambivalent': -1,\n",
              " 'amuse': 3,\n",
              " 'amused': 3,\n",
              " 'amusement': 3,\n",
              " 'amusements': 3,\n",
              " 'anger': -3,\n",
              " 'angers': -3,\n",
              " 'angry': -3,\n",
              " 'anguish': -3,\n",
              " 'anguished': -3,\n",
              " 'animosity': -2,\n",
              " 'annoy': -2,\n",
              " 'annoyance': -2,\n",
              " 'annoyed': -2,\n",
              " 'annoying': -2,\n",
              " 'annoys': -2,\n",
              " 'antagonistic': -2,\n",
              " 'anti': -1,\n",
              " 'anticipation': 1,\n",
              " 'anxiety': -2,\n",
              " 'anxious': -2,\n",
              " 'apathetic': -3,\n",
              " 'apathy': -3,\n",
              " 'apeshit': -3,\n",
              " 'apocalyptic': -2,\n",
              " 'apologise': -1,\n",
              " 'apologised': -1,\n",
              " 'apologises': -1,\n",
              " 'apologising': -1,\n",
              " 'apologize': -1,\n",
              " 'apologized': -1,\n",
              " 'apologizes': -1,\n",
              " 'apologizing': -1,\n",
              " 'apology': -1,\n",
              " 'appalled': -2,\n",
              " 'appalling': -2,\n",
              " 'appease': 2,\n",
              " 'appeased': 2,\n",
              " 'appeases': 2,\n",
              " 'appeasing': 2,\n",
              " 'applaud': 2,\n",
              " 'applauded': 2,\n",
              " 'applauding': 2,\n",
              " 'applauds': 2,\n",
              " 'applause': 2,\n",
              " 'appreciate': 2,\n",
              " 'appreciated': 2,\n",
              " 'appreciates': 2,\n",
              " 'appreciating': 2,\n",
              " 'appreciation': 2,\n",
              " 'apprehensive': -2,\n",
              " 'approval': 2,\n",
              " 'approved': 2,\n",
              " 'approves': 2,\n",
              " 'ardent': 1,\n",
              " 'arrest': -2,\n",
              " 'arrested': -3,\n",
              " 'arrests': -2,\n",
              " 'arrogant': -2,\n",
              " 'ashame': -2,\n",
              " 'ashamed': -2,\n",
              " 'ass': -4,\n",
              " 'assassination': -3,\n",
              " 'assassinations': -3,\n",
              " 'asset': 2,\n",
              " 'assets': 2,\n",
              " 'assfucking': -4,\n",
              " 'asshole': -4,\n",
              " 'astonished': 2,\n",
              " 'astound': 3,\n",
              " 'astounded': 3,\n",
              " 'astounding': 3,\n",
              " 'astoundingly': 3,\n",
              " 'astounds': 3,\n",
              " 'attack': -1,\n",
              " 'attacked': -1,\n",
              " 'attacking': -1,\n",
              " 'attacks': -1,\n",
              " 'attract': 1,\n",
              " 'attracted': 1,\n",
              " 'attracting': 2,\n",
              " 'attraction': 2,\n",
              " 'attractions': 2,\n",
              " 'attracts': 1,\n",
              " 'audacious': 3,\n",
              " 'authority': 1,\n",
              " 'avert': -1,\n",
              " 'averted': -1,\n",
              " 'averts': -1,\n",
              " 'avid': 2,\n",
              " 'avoid': -1,\n",
              " 'avoided': -1,\n",
              " 'avoids': -1,\n",
              " 'await': -1,\n",
              " 'awaited': -1,\n",
              " 'awaits': -1,\n",
              " 'award': 3,\n",
              " 'awarded': 3,\n",
              " 'awards': 3,\n",
              " 'awesome': 4,\n",
              " 'awful': -3,\n",
              " 'awkward': -2,\n",
              " 'axe': -1,\n",
              " 'axed': -1,\n",
              " 'backed': 1,\n",
              " 'backing': 2,\n",
              " 'backs': 1,\n",
              " 'bad': -3,\n",
              " 'badass': -3,\n",
              " 'badly': -3,\n",
              " 'bailout': -2,\n",
              " 'bamboozle': -2,\n",
              " 'bamboozled': -2,\n",
              " 'bamboozles': -2,\n",
              " 'ban': -2,\n",
              " 'banish': -1,\n",
              " 'bankrupt': -3,\n",
              " 'bankster': -3,\n",
              " 'banned': -2,\n",
              " 'bargain': 2,\n",
              " 'barrier': -2,\n",
              " 'bastard': -5,\n",
              " 'bastards': -5,\n",
              " 'battle': -1,\n",
              " 'battles': -1,\n",
              " 'beaten': -2,\n",
              " 'beatific': 3,\n",
              " 'beating': -1,\n",
              " 'beauties': 3,\n",
              " 'beautiful': 3,\n",
              " 'beautifully': 3,\n",
              " 'beautify': 3,\n",
              " 'belittle': -2,\n",
              " 'belittled': -2,\n",
              " 'beloved': 3,\n",
              " 'benefit': 2,\n",
              " 'benefits': 2,\n",
              " 'benefitted': 2,\n",
              " 'benefitting': 2,\n",
              " 'bereave': -2,\n",
              " 'bereaved': -2,\n",
              " 'bereaves': -2,\n",
              " 'bereaving': -2,\n",
              " 'best': 3,\n",
              " 'betray': -3,\n",
              " 'betrayal': -3,\n",
              " 'betrayed': -3,\n",
              " 'betraying': -3,\n",
              " 'betrays': -3,\n",
              " 'better': 2,\n",
              " 'bias': -1,\n",
              " 'biased': -2,\n",
              " 'big': 1,\n",
              " 'bitch': -5,\n",
              " 'bitches': -5,\n",
              " 'bitter': -2,\n",
              " 'bitterly': -2,\n",
              " 'bizarre': -2,\n",
              " 'blah': -2,\n",
              " 'blame': -2,\n",
              " 'blamed': -2,\n",
              " 'blames': -2,\n",
              " 'blaming': -2,\n",
              " 'bless': 2,\n",
              " 'blesses': 2,\n",
              " 'blessing': 3,\n",
              " 'blind': -1,\n",
              " 'bliss': 3,\n",
              " 'blissful': 3,\n",
              " 'blithe': 2,\n",
              " 'block': -1,\n",
              " 'blockbuster': 3,\n",
              " 'blocked': -1,\n",
              " 'blocking': -1,\n",
              " 'blocks': -1,\n",
              " 'bloody': -3,\n",
              " 'blurry': -2,\n",
              " 'boastful': -2,\n",
              " 'bold': 2,\n",
              " 'boldly': 2,\n",
              " 'bomb': -1,\n",
              " 'boost': 1,\n",
              " 'boosted': 1,\n",
              " 'boosting': 1,\n",
              " 'boosts': 1,\n",
              " 'bore': -2,\n",
              " 'bored': -2,\n",
              " 'boring': -3,\n",
              " 'bother': -2,\n",
              " 'bothered': -2,\n",
              " 'bothers': -2,\n",
              " 'bothersome': -2,\n",
              " 'boycott': -2,\n",
              " 'boycotted': -2,\n",
              " 'boycotting': -2,\n",
              " 'boycotts': -2,\n",
              " 'brainwashing': -3,\n",
              " 'brave': 2,\n",
              " 'breakthrough': 3,\n",
              " 'breathtaking': 5,\n",
              " 'bribe': -3,\n",
              " 'bright': 1,\n",
              " 'brightest': 2,\n",
              " 'brightness': 1,\n",
              " 'brilliant': 4,\n",
              " 'brisk': 2,\n",
              " 'broke': -1,\n",
              " 'broken': -1,\n",
              " 'brooding': -2,\n",
              " 'bullied': -2,\n",
              " 'bullshit': -4,\n",
              " 'bully': -2,\n",
              " 'bullying': -2,\n",
              " 'bummer': -2,\n",
              " 'buoyant': 2,\n",
              " 'burden': -2,\n",
              " 'burdened': -2,\n",
              " 'burdening': -2,\n",
              " 'burdens': -2,\n",
              " 'calm': 2,\n",
              " 'calmed': 2,\n",
              " 'calming': 2,\n",
              " 'calms': 2,\n",
              " \"can't stand\": -3,\n",
              " 'cancel': -1,\n",
              " 'cancelled': -1,\n",
              " 'cancelling': -1,\n",
              " 'cancels': -1,\n",
              " 'cancer': -1,\n",
              " 'capable': 1,\n",
              " 'captivated': 3,\n",
              " 'care': 2,\n",
              " 'carefree': 1,\n",
              " 'careful': 2,\n",
              " 'carefully': 2,\n",
              " 'careless': -2,\n",
              " 'cares': 2,\n",
              " 'cashing in': -2,\n",
              " 'casualty': -2,\n",
              " 'catastrophe': -3,\n",
              " 'catastrophic': -4,\n",
              " 'cautious': -1,\n",
              " 'celebrate': 3,\n",
              " 'celebrated': 3,\n",
              " 'celebrates': 3,\n",
              " 'celebrating': 3,\n",
              " 'censor': -2,\n",
              " 'censored': -2,\n",
              " 'censors': -2,\n",
              " 'certain': 1,\n",
              " 'chagrin': -2,\n",
              " 'chagrined': -2,\n",
              " 'challenge': -1,\n",
              " 'chance': 2,\n",
              " 'chances': 2,\n",
              " 'chaos': -2,\n",
              " 'chaotic': -2,\n",
              " 'charged': -3,\n",
              " 'charges': -2,\n",
              " 'charm': 3,\n",
              " 'charming': 3,\n",
              " 'charmless': -3,\n",
              " 'chastise': -3,\n",
              " 'chastised': -3,\n",
              " 'chastises': -3,\n",
              " 'chastising': -3,\n",
              " 'cheat': -3,\n",
              " 'cheated': -3,\n",
              " 'cheater': -3,\n",
              " 'cheaters': -3,\n",
              " 'cheats': -3,\n",
              " 'cheer': 2,\n",
              " 'cheered': 2,\n",
              " 'cheerful': 2,\n",
              " 'cheering': 2,\n",
              " 'cheerless': -2,\n",
              " 'cheers': 2,\n",
              " 'cheery': 3,\n",
              " 'cherish': 2,\n",
              " 'cherished': 2,\n",
              " 'cherishes': 2,\n",
              " 'cherishing': 2,\n",
              " 'chic': 2,\n",
              " 'childish': -2,\n",
              " 'chilling': -1,\n",
              " 'choke': -2,\n",
              " 'choked': -2,\n",
              " 'chokes': -2,\n",
              " 'choking': -2,\n",
              " 'clarifies': 2,\n",
              " 'clarity': 2,\n",
              " 'clash': -2,\n",
              " 'classy': 3,\n",
              " 'clean': 2,\n",
              " 'cleaner': 2,\n",
              " 'clear': 1,\n",
              " 'cleared': 1,\n",
              " 'clearly': 1,\n",
              " 'clears': 1,\n",
              " 'clever': 2,\n",
              " 'clouded': -1,\n",
              " 'clueless': -2,\n",
              " 'cock': -5,\n",
              " 'cocksucker': -5,\n",
              " 'cocksuckers': -5,\n",
              " 'cocky': -2,\n",
              " 'coerced': -2,\n",
              " 'collapse': -2,\n",
              " 'collapsed': -2,\n",
              " 'collapses': -2,\n",
              " 'collapsing': -2,\n",
              " 'collide': -1,\n",
              " 'collides': -1,\n",
              " 'colliding': -1,\n",
              " 'collision': -2,\n",
              " 'collisions': -2,\n",
              " 'colluding': -3,\n",
              " 'combat': -1,\n",
              " 'combats': -1,\n",
              " 'comedy': 1,\n",
              " 'comfort': 2,\n",
              " 'comfortable': 2,\n",
              " 'comforting': 2,\n",
              " 'comforts': 2,\n",
              " 'commend': 2,\n",
              " 'commended': 2,\n",
              " 'commit': 1,\n",
              " 'commitment': 2,\n",
              " 'commits': 1,\n",
              " 'committed': 1,\n",
              " 'committing': 1,\n",
              " 'compassionate': 2,\n",
              " 'compelled': 1,\n",
              " 'competent': 2,\n",
              " 'competitive': 2,\n",
              " 'complacent': -2,\n",
              " 'complain': -2,\n",
              " 'complained': -2,\n",
              " 'complains': -2,\n",
              " 'comprehensive': 2,\n",
              " 'conciliate': 2,\n",
              " 'conciliated': 2,\n",
              " 'conciliates': 2,\n",
              " 'conciliating': 2,\n",
              " 'condemn': -2,\n",
              " 'condemnation': -2,\n",
              " 'condemned': -2,\n",
              " 'condemns': -2,\n",
              " 'confidence': 2,\n",
              " 'confident': 2,\n",
              " 'conflict': -2,\n",
              " 'conflicting': -2,\n",
              " 'conflictive': -2,\n",
              " 'conflicts': -2,\n",
              " 'confuse': -2,\n",
              " 'confused': -2,\n",
              " 'confusing': -2,\n",
              " 'congrats': 2,\n",
              " 'congratulate': 2,\n",
              " 'congratulation': 2,\n",
              " 'congratulations': 2,\n",
              " 'consent': 2,\n",
              " 'consents': 2,\n",
              " 'consolable': 2,\n",
              " 'conspiracy': -3,\n",
              " 'constrained': -2,\n",
              " 'contagion': -2,\n",
              " 'contagions': -2,\n",
              " 'contagious': -1,\n",
              " 'contempt': -2,\n",
              " 'contemptuous': -2,\n",
              " 'contemptuously': -2,\n",
              " 'contend': -1,\n",
              " 'contender': -1,\n",
              " 'contending': -1,\n",
              " 'contentious': -2,\n",
              " 'contestable': -2,\n",
              " 'controversial': -2,\n",
              " 'controversially': -2,\n",
              " 'convince': 1,\n",
              " 'convinced': 1,\n",
              " 'convinces': 1,\n",
              " 'convivial': 2,\n",
              " 'cool': 1,\n",
              " 'cool stuff': 3,\n",
              " 'cornered': -2,\n",
              " 'corpse': -1,\n",
              " 'costly': -2,\n",
              " 'courage': 2,\n",
              " 'courageous': 2,\n",
              " 'courteous': 2,\n",
              " 'courtesy': 2,\n",
              " 'cover-up': -3,\n",
              " 'coward': -2,\n",
              " 'cowardly': -2,\n",
              " 'coziness': 2,\n",
              " 'cramp': -1,\n",
              " 'crap': -3,\n",
              " 'crash': -2,\n",
              " 'crazier': -2,\n",
              " 'craziest': -2,\n",
              " 'crazy': -2,\n",
              " 'creative': 2,\n",
              " 'crestfallen': -2,\n",
              " 'cried': -2,\n",
              " 'cries': -2,\n",
              " 'crime': -3,\n",
              " 'criminal': -3,\n",
              " 'criminals': -3,\n",
              " 'crisis': -3,\n",
              " 'critic': -2,\n",
              " 'criticism': -2,\n",
              " 'criticize': -2,\n",
              " 'criticized': -2,\n",
              " 'criticizes': -2,\n",
              " 'criticizing': -2,\n",
              " 'critics': -2,\n",
              " 'cruel': -3,\n",
              " 'cruelty': -3,\n",
              " 'crush': -1,\n",
              " 'crushed': -2,\n",
              " 'crushes': -1,\n",
              " 'crushing': -1,\n",
              " 'cry': -1,\n",
              " 'crying': -2,\n",
              " 'cunt': -5,\n",
              " 'curious': 1,\n",
              " 'curse': -1,\n",
              " 'cut': -1,\n",
              " 'cute': 2,\n",
              " 'cuts': -1,\n",
              " 'cutting': -1,\n",
              " 'cynic': -2,\n",
              " 'cynical': -2,\n",
              " 'cynicism': -2,\n",
              " 'damage': -3,\n",
              " 'damages': -3,\n",
              " 'damn': -4,\n",
              " 'damned': -4,\n",
              " 'damnit': -4,\n",
              " 'danger': -2,\n",
              " 'daredevil': 2,\n",
              " 'daring': 2,\n",
              " 'darkest': -2,\n",
              " 'darkness': -1,\n",
              " 'dauntless': 2,\n",
              " 'dead': -3,\n",
              " 'deadlock': -2,\n",
              " 'deafening': -1,\n",
              " 'dear': 2,\n",
              " 'dearly': 3,\n",
              " 'death': -2,\n",
              " 'debonair': 2,\n",
              " 'debt': -2,\n",
              " 'deceit': -3,\n",
              " 'deceitful': -3,\n",
              " 'deceive': -3,\n",
              " 'deceived': -3,\n",
              " 'deceives': -3,\n",
              " 'deceiving': -3,\n",
              " 'deception': -3,\n",
              " 'decisive': 1,\n",
              " 'dedicated': 2,\n",
              " 'defeated': -2,\n",
              " 'defect': -3,\n",
              " 'defects': -3,\n",
              " 'defender': 2,\n",
              " 'defenders': 2,\n",
              " 'defenseless': -2,\n",
              " 'defer': -1,\n",
              " 'deferring': -1,\n",
              " 'defiant': -1,\n",
              " 'deficit': -2,\n",
              " 'degrade': -2,\n",
              " 'degraded': -2,\n",
              " 'degrades': -2,\n",
              " 'dehumanize': -2,\n",
              " 'dehumanized': -2,\n",
              " 'dehumanizes': -2,\n",
              " 'dehumanizing': -2,\n",
              " 'deject': -2,\n",
              " 'dejected': -2,\n",
              " 'dejecting': -2,\n",
              " 'dejects': -2,\n",
              " 'delay': -1,\n",
              " 'delayed': -1,\n",
              " 'delight': 3,\n",
              " 'delighted': 3,\n",
              " 'delighting': 3,\n",
              " 'delights': 3,\n",
              " 'demand': -1,\n",
              " 'demanded': -1,\n",
              " 'demanding': -1,\n",
              " 'demands': -1,\n",
              " 'demonstration': -1,\n",
              " 'demoralized': -2,\n",
              " 'denied': -2,\n",
              " 'denier': -2,\n",
              " 'deniers': -2,\n",
              " 'denies': -2,\n",
              " 'denounce': -2,\n",
              " 'denounces': -2,\n",
              " 'deny': -2,\n",
              " 'denying': -2,\n",
              " 'depressed': -2,\n",
              " 'depressing': -2,\n",
              " 'derail': -2,\n",
              " 'derailed': -2,\n",
              " 'derails': -2,\n",
              " 'deride': -2,\n",
              " 'derided': -2,\n",
              " 'derides': -2,\n",
              " 'deriding': -2,\n",
              " 'derision': -2,\n",
              " 'desirable': 2,\n",
              " 'desire': 1,\n",
              " 'desired': 2,\n",
              " 'desirous': 2,\n",
              " 'despair': -3,\n",
              " 'despairing': -3,\n",
              " 'despairs': -3,\n",
              " 'desperate': -3,\n",
              " 'desperately': -3,\n",
              " 'despondent': -3,\n",
              " 'destroy': -3,\n",
              " 'destroyed': -3,\n",
              " 'destroying': -3,\n",
              " 'destroys': -3,\n",
              " 'destruction': -3,\n",
              " 'destructive': -3,\n",
              " 'detached': -1,\n",
              " 'detain': -2,\n",
              " 'detained': -2,\n",
              " 'detention': -2,\n",
              " 'determined': 2,\n",
              " 'devastate': -2,\n",
              " 'devastated': -2,\n",
              " 'devastating': -2,\n",
              " 'devoted': 3,\n",
              " 'diamond': 1,\n",
              " 'dick': -4,\n",
              " 'dickhead': -4,\n",
              " 'die': -3,\n",
              " 'died': -3,\n",
              " 'difficult': -1,\n",
              " 'diffident': -2,\n",
              " 'dilemma': -1,\n",
              " 'dipshit': -3,\n",
              " 'dire': -3,\n",
              " 'direful': -3,\n",
              " 'dirt': -2,\n",
              " 'dirtier': -2,\n",
              " 'dirtiest': -2,\n",
              " 'dirty': -2,\n",
              " 'disabling': -1,\n",
              " 'disadvantage': -2,\n",
              " 'disadvantaged': -2,\n",
              " 'disappear': -1,\n",
              " 'disappeared': -1,\n",
              " 'disappears': -1,\n",
              " 'disappoint': -2,\n",
              " 'disappointed': -2,\n",
              " 'disappointing': -2,\n",
              " 'disappointment': -2,\n",
              " 'disappointments': -2,\n",
              " 'disappoints': -2,\n",
              " 'disaster': -2,\n",
              " 'disasters': -2,\n",
              " 'disastrous': -3,\n",
              " 'disbelieve': -2,\n",
              " 'discard': -1,\n",
              " 'discarded': -1,\n",
              " 'discarding': -1,\n",
              " 'discards': -1,\n",
              " 'disconsolate': -2,\n",
              " 'disconsolation': -2,\n",
              " 'discontented': -2,\n",
              " 'discord': -2,\n",
              " 'discounted': -1,\n",
              " 'discouraged': -2,\n",
              " 'discredited': -2,\n",
              " 'disdain': -2,\n",
              " 'disgrace': -2,\n",
              " 'disgraced': -2,\n",
              " 'disguise': -1,\n",
              " 'disguised': -1,\n",
              " 'disguises': -1,\n",
              " 'disguising': -1,\n",
              " 'disgust': -3,\n",
              " 'disgusted': -3,\n",
              " 'disgusting': -3,\n",
              " 'disheartened': -2,\n",
              " 'dishonest': -2,\n",
              " 'disillusioned': -2,\n",
              " 'disinclined': -2,\n",
              " 'disjointed': -2,\n",
              " 'dislike': -2,\n",
              " 'dismal': -2,\n",
              " 'dismayed': -2,\n",
              " 'disorder': -2,\n",
              " 'disorganized': -2,\n",
              " 'disoriented': -2,\n",
              " 'disparage': -2,\n",
              " 'disparaged': -2,\n",
              " 'disparages': -2,\n",
              " 'disparaging': -2,\n",
              " 'displeased': -2,\n",
              " 'dispute': -2,\n",
              " 'disputed': -2,\n",
              " 'disputes': -2,\n",
              " 'disputing': -2,\n",
              " 'disqualified': -2,\n",
              " 'disquiet': -2,\n",
              " 'disregard': -2,\n",
              " 'disregarded': -2,\n",
              " 'disregarding': -2,\n",
              " 'disregards': -2,\n",
              " 'disrespect': -2,\n",
              " 'disrespected': -2,\n",
              " 'disruption': -2,\n",
              " 'disruptions': -2,\n",
              " 'disruptive': -2,\n",
              " 'dissatisfied': -2,\n",
              " 'distort': -2,\n",
              " 'distorted': -2,\n",
              " 'distorting': -2,\n",
              " 'distorts': -2,\n",
              " 'distract': -2,\n",
              " 'distracted': -2,\n",
              " 'distraction': -2,\n",
              " 'distracts': -2,\n",
              " 'distress': -2,\n",
              " 'distressed': -2,\n",
              " 'distresses': -2,\n",
              " 'distressing': -2,\n",
              " 'distrust': -3,\n",
              " 'distrustful': -3,\n",
              " 'disturb': -2,\n",
              " 'disturbed': -2,\n",
              " 'disturbing': -2,\n",
              " 'disturbs': -2,\n",
              " 'dithering': -2,\n",
              " 'dizzy': -1,\n",
              " 'dodging': -2,\n",
              " 'dodgy': -2,\n",
              " 'does not work': -3,\n",
              " 'dolorous': -2,\n",
              " 'dont like': -2,\n",
              " 'doom': -2,\n",
              " 'doomed': -2,\n",
              " 'doubt': -1,\n",
              " 'doubted': -1,\n",
              " 'doubtful': -1,\n",
              " 'doubting': -1,\n",
              " 'doubts': -1,\n",
              " 'douche': -3,\n",
              " 'douchebag': -3,\n",
              " 'downcast': -2,\n",
              " 'downhearted': -2,\n",
              " 'downside': -2,\n",
              " 'drag': -1,\n",
              " 'dragged': -1,\n",
              " 'drags': -1,\n",
              " 'drained': -2,\n",
              " 'dread': -2,\n",
              " 'dreaded': -2,\n",
              " 'dreadful': -3,\n",
              " 'dreading': -2,\n",
              " 'dream': 1,\n",
              " 'dreams': 1,\n",
              " 'dreary': -2,\n",
              " 'droopy': -2,\n",
              " 'drop': -1,\n",
              " 'drown': -2,\n",
              " 'drowned': -2,\n",
              " 'drowns': -2,\n",
              " 'drunk': -2,\n",
              " 'dubious': -2,\n",
              " 'dud': -2,\n",
              " 'dull': -2,\n",
              " 'dumb': -3,\n",
              " 'dumbass': -3,\n",
              " 'dump': -1,\n",
              " 'dumped': -2,\n",
              " 'dumps': -1,\n",
              " 'dupe': -2,\n",
              " 'duped': -2,\n",
              " 'dysfunction': -2,\n",
              " 'eager': 2,\n",
              " 'earnest': 2,\n",
              " 'ease': 2,\n",
              " 'easy': 1,\n",
              " 'ecstatic': 4,\n",
              " 'eerie': -2,\n",
              " 'eery': -2,\n",
              " 'effective': 2,\n",
              " 'effectively': 2,\n",
              " 'elated': 3,\n",
              " 'elation': 3,\n",
              " 'elegant': 2,\n",
              " 'elegantly': 2,\n",
              " 'embarrass': -2,\n",
              " 'embarrassed': -2,\n",
              " 'embarrasses': -2,\n",
              " 'embarrassing': -2,\n",
              " 'embarrassment': -2,\n",
              " 'embittered': -2,\n",
              " 'embrace': 1,\n",
              " 'emergency': -2,\n",
              " 'empathetic': 2,\n",
              " 'emptiness': -1,\n",
              " 'empty': -1,\n",
              " 'enchanted': 2,\n",
              " 'encourage': 2,\n",
              " 'encouraged': 2,\n",
              " 'encouragement': 2,\n",
              " 'encourages': 2,\n",
              " 'endorse': 2,\n",
              " 'endorsed': 2,\n",
              " 'endorsement': 2,\n",
              " 'endorses': 2,\n",
              " 'enemies': -2,\n",
              " 'enemy': -2,\n",
              " 'energetic': 2,\n",
              " 'engage': 1,\n",
              " 'engages': 1,\n",
              " 'engrossed': 1,\n",
              " 'enjoy': 2,\n",
              " 'enjoying': 2,\n",
              " 'enjoys': 2,\n",
              " 'enlighten': 2,\n",
              " 'enlightened': 2,\n",
              " 'enlightening': 2,\n",
              " 'enlightens': 2,\n",
              " 'ennui': -2,\n",
              " 'enrage': -2,\n",
              " 'enraged': -2,\n",
              " 'enrages': -2,\n",
              " 'enraging': -2,\n",
              " 'enrapture': 3,\n",
              " 'enslave': -2,\n",
              " 'enslaved': -2,\n",
              " 'enslaves': -2,\n",
              " 'ensure': 1,\n",
              " 'ensuring': 1,\n",
              " 'enterprising': 1,\n",
              " 'entertaining': 2,\n",
              " 'enthral': 3,\n",
              " 'enthusiastic': 3,\n",
              " 'entitled': 1,\n",
              " 'entrusted': 2,\n",
              " 'envies': -1,\n",
              " 'envious': -2,\n",
              " 'envy': -1,\n",
              " 'envying': -1,\n",
              " 'erroneous': -2,\n",
              " 'error': -2,\n",
              " 'errors': -2,\n",
              " 'escape': -1,\n",
              " 'escapes': -1,\n",
              " 'escaping': -1,\n",
              " 'esteemed': 2,\n",
              " 'ethical': 2,\n",
              " 'euphoria': 3,\n",
              " 'euphoric': 4,\n",
              " 'eviction': -1,\n",
              " 'evil': -3,\n",
              " 'exaggerate': -2,\n",
              " 'exaggerated': -2,\n",
              " 'exaggerates': -2,\n",
              " 'exaggerating': -2,\n",
              " 'exasperated': 2,\n",
              " 'excellence': 3,\n",
              " 'excellent': 3,\n",
              " 'excite': 3,\n",
              " 'excited': 3,\n",
              " 'excitement': 3,\n",
              " 'exciting': 3,\n",
              " 'exclude': -1,\n",
              " 'excluded': -2,\n",
              " 'exclusion': -1,\n",
              " 'exclusive': 2,\n",
              " 'excuse': -1,\n",
              " 'exempt': -1,\n",
              " 'exhausted': -2,\n",
              " 'exhilarated': 3,\n",
              " 'exhilarates': 3,\n",
              " 'exhilarating': 3,\n",
              " 'exonerate': 2,\n",
              " 'exonerated': 2,\n",
              " 'exonerates': 2,\n",
              " 'exonerating': 2,\n",
              " 'expand': 1,\n",
              " 'expands': 1,\n",
              " 'expel': -2,\n",
              " 'expelled': -2,\n",
              " 'expelling': -2,\n",
              " 'expels': -2,\n",
              " 'exploit': -2,\n",
              " 'exploited': -2,\n",
              " 'exploiting': -2,\n",
              " 'exploits': -2,\n",
              " 'exploration': 1,\n",
              " 'explorations': 1,\n",
              " 'expose': -1,\n",
              " 'exposed': -1,\n",
              " 'exposes': -1,\n",
              " 'exposing': -1,\n",
              " 'extend': 1,\n",
              " 'extends': 1,\n",
              " 'exuberant': 4,\n",
              " 'exultant': 3,\n",
              " 'exultantly': 3,\n",
              " 'fabulous': 4,\n",
              " 'fad': -2,\n",
              " 'fag': -3,\n",
              " 'faggot': -3,\n",
              " 'faggots': -3,\n",
              " 'fail': -2,\n",
              " 'failed': -2,\n",
              " 'failing': -2,\n",
              " 'fails': -2,\n",
              " 'failure': -2,\n",
              " 'failures': -2,\n",
              " 'fainthearted': -2,\n",
              " 'fair': 2,\n",
              " 'faith': 1,\n",
              " 'faithful': 3,\n",
              " 'fake': -3,\n",
              " 'fakes': -3,\n",
              " 'faking': -3,\n",
              " 'fallen': -2,\n",
              " 'falling': -1,\n",
              " 'falsified': -3,\n",
              " 'falsify': -3,\n",
              " 'fame': 1,\n",
              " 'fan': 3,\n",
              " 'fantastic': 4,\n",
              " 'farce': -1,\n",
              " 'fascinate': 3,\n",
              " 'fascinated': 3,\n",
              " 'fascinates': 3,\n",
              " 'fascinating': 3,\n",
              " 'fascist': -2,\n",
              " 'fascists': -2,\n",
              " 'fatalities': -3,\n",
              " 'fatality': -3,\n",
              " 'fatigue': -2,\n",
              " 'fatigued': -2,\n",
              " 'fatigues': -2,\n",
              " 'fatiguing': -2,\n",
              " 'favor': 2,\n",
              " 'favored': 2,\n",
              " 'favorite': 2,\n",
              " 'favorited': 2,\n",
              " 'favorites': 2,\n",
              " 'favors': 2,\n",
              " 'fear': -2,\n",
              " 'fearful': -2,\n",
              " 'fearing': -2,\n",
              " 'fearless': 2,\n",
              " 'fearsome': -2,\n",
              " 'fed up': -3,\n",
              " 'feeble': -2,\n",
              " 'feeling': 1,\n",
              " 'felonies': -3,\n",
              " 'felony': -3,\n",
              " 'fervent': 2,\n",
              " 'fervid': 2,\n",
              " 'festive': 2,\n",
              " 'fiasco': -3,\n",
              " 'fidgety': -2,\n",
              " 'fight': -1,\n",
              " 'fine': 2,\n",
              " 'fire': -2,\n",
              " 'fired': -2,\n",
              " 'firing': -2,\n",
              " 'fit': 1,\n",
              " 'fitness': 1,\n",
              " 'flagship': 2,\n",
              " 'flees': -1,\n",
              " 'flop': -2,\n",
              " 'flops': -2,\n",
              " 'flu': -2,\n",
              " ...}"
            ]
          },
          "metadata": {},
          "execution_count": 20
        }
      ]
    },
    {
      "cell_type": "code",
      "metadata": {
        "id": "GQ4FXsvvuwaY"
      },
      "source": [
        "#Custom function :score each word in a sentence in lemmatised form, \n",
        "#but calculate the score for the whole original sentence.\n",
        "nlp = spacy.load('en')\n",
        "sentiment_lexicon = affinity_scores\n",
        "\n",
        "def calculate_sentiment(text: str = None):\n",
        "    sent_score = 0\n",
        "    if text:\n",
        "        sentence = nlp(text)\n",
        "        for word in sentence:\n",
        "            sent_score += sentiment_lexicon.get(word.lemma_, 0)\n",
        "    return sent_score"
      ],
      "execution_count": 21,
      "outputs": []
    },
    {
      "cell_type": "code",
      "metadata": {
        "colab": {
          "base_uri": "https://localhost:8080/"
        },
        "id": "YNewbvvfuwaa",
        "outputId": "dc4bffb3-a48b-430f-e3e9-ab0243ad60a6"
      },
      "source": [
        "# test that it works\n",
        "calculate_sentiment(text = 'amazing')"
      ],
      "execution_count": 22,
      "outputs": [
        {
          "output_type": "execute_result",
          "data": {
            "text/plain": [
              "4"
            ]
          },
          "metadata": {},
          "execution_count": 22
        }
      ]
    },
    {
      "cell_type": "code",
      "metadata": {
        "id": "iislW0Pwuwad"
      },
      "source": [
        "sent_df['sentiment_value'] = sent_df['sentence'].apply(calculate_sentiment)"
      ],
      "execution_count": 23,
      "outputs": []
    },
    {
      "cell_type": "code",
      "metadata": {
        "colab": {
          "base_uri": "https://localhost:8080/"
        },
        "id": "SRI4lR56uwaf",
        "outputId": "babefba2-a905-4610-9845-c41f11a4db4d"
      },
      "source": [
        "# how many words are in the sentence?\n",
        "sent_df['word_count'] = sent_df['sentence'].str.split().apply(len)\n",
        "sent_df['word_count'].head(10)"
      ],
      "execution_count": 24,
      "outputs": [
        {
          "output_type": "execute_result",
          "data": {
            "text/plain": [
              "0    19\n",
              "1    30\n",
              "2     7\n",
              "3    65\n",
              "4     7\n",
              "5    47\n",
              "6    16\n",
              "7    29\n",
              "8    26\n",
              "9    15\n",
              "Name: word_count, dtype: int64"
            ]
          },
          "metadata": {},
          "execution_count": 24
        }
      ]
    },
    {
      "cell_type": "code",
      "metadata": {
        "colab": {
          "base_uri": "https://localhost:8080/",
          "height": 357
        },
        "id": "mb9Je8Jxuwan",
        "outputId": "c3008413-8986-43f2-ff91-e89468ab0127"
      },
      "source": [
        "sent_df.sort_values(by='sentiment_value').tail(10)"
      ],
      "execution_count": 25,
      "outputs": [
        {
          "output_type": "execute_result",
          "data": {
            "text/html": [
              "<div>\n",
              "<style scoped>\n",
              "    .dataframe tbody tr th:only-of-type {\n",
              "        vertical-align: middle;\n",
              "    }\n",
              "\n",
              "    .dataframe tbody tr th {\n",
              "        vertical-align: top;\n",
              "    }\n",
              "\n",
              "    .dataframe thead th {\n",
              "        text-align: right;\n",
              "    }\n",
              "</style>\n",
              "<table border=\"1\" class=\"dataframe\">\n",
              "  <thead>\n",
              "    <tr style=\"text-align: right;\">\n",
              "      <th></th>\n",
              "      <th>sentence</th>\n",
              "      <th>sentiment_value</th>\n",
              "      <th>word_count</th>\n",
              "    </tr>\n",
              "  </thead>\n",
              "  <tbody>\n",
              "    <tr>\n",
              "      <th>109</th>\n",
              "      <td>The build is super strong, the operating syste...</td>\n",
              "      <td>5</td>\n",
              "      <td>10</td>\n",
              "    </tr>\n",
              "    <tr>\n",
              "      <th>63</th>\n",
              "      <td>I hope this comment can help to save somebody’...</td>\n",
              "      <td>6</td>\n",
              "      <td>10</td>\n",
              "    </tr>\n",
              "    <tr>\n",
              "      <th>102</th>\n",
              "      <td>The switch was inspired by the awesome reviews...</td>\n",
              "      <td>6</td>\n",
              "      <td>13</td>\n",
              "    </tr>\n",
              "    <tr>\n",
              "      <th>45</th>\n",
              "      <td>Ships with macOS sierra but update is availabl...</td>\n",
              "      <td>6</td>\n",
              "      <td>86</td>\n",
              "    </tr>\n",
              "    <tr>\n",
              "      <th>58</th>\n",
              "      <td>I use this for music production and it works a...</td>\n",
              "      <td>7</td>\n",
              "      <td>30</td>\n",
              "    </tr>\n",
              "    <tr>\n",
              "      <th>1</th>\n",
              "      <td>Technically good mobile.Good News.luxury produ...</td>\n",
              "      <td>7</td>\n",
              "      <td>30</td>\n",
              "    </tr>\n",
              "    <tr>\n",
              "      <th>0</th>\n",
              "      <td>It's amazing..... battery last around 10 -12 h...</td>\n",
              "      <td>7</td>\n",
              "      <td>19</td>\n",
              "    </tr>\n",
              "    <tr>\n",
              "      <th>177</th>\n",
              "      <td>MERITS..IT IS BEST IN ITS PERFORMANCE..SOUND Q...</td>\n",
              "      <td>10</td>\n",
              "      <td>43</td>\n",
              "    </tr>\n",
              "    <tr>\n",
              "      <th>150</th>\n",
              "      <td>..So now I m working with the external keyboar...</td>\n",
              "      <td>17</td>\n",
              "      <td>113</td>\n",
              "    </tr>\n",
              "    <tr>\n",
              "      <th>85</th>\n",
              "      <td>All are Gud.. For now.. Apple,apple,apple, tha...</td>\n",
              "      <td>24</td>\n",
              "      <td>184</td>\n",
              "    </tr>\n",
              "  </tbody>\n",
              "</table>\n",
              "</div>"
            ],
            "text/plain": [
              "                                              sentence  ...  word_count\n",
              "109  The build is super strong, the operating syste...  ...          10\n",
              "63   I hope this comment can help to save somebody’...  ...          10\n",
              "102  The switch was inspired by the awesome reviews...  ...          13\n",
              "45   Ships with macOS sierra but update is availabl...  ...          86\n",
              "58   I use this for music production and it works a...  ...          30\n",
              "1    Technically good mobile.Good News.luxury produ...  ...          30\n",
              "0    It's amazing..... battery last around 10 -12 h...  ...          19\n",
              "177  MERITS..IT IS BEST IN ITS PERFORMANCE..SOUND Q...  ...          43\n",
              "150  ..So now I m working with the external keyboar...  ...         113\n",
              "85   All are Gud.. For now.. Apple,apple,apple, tha...  ...         184\n",
              "\n",
              "[10 rows x 3 columns]"
            ]
          },
          "metadata": {},
          "execution_count": 25
        }
      ]
    },
    {
      "cell_type": "code",
      "metadata": {
        "colab": {
          "base_uri": "https://localhost:8080/"
        },
        "id": "HRK5AL4suwao",
        "outputId": "e15bc491-e10f-4a85-8bc0-081016e01d4c"
      },
      "source": [
        "# Sentiment score of the whole review\n",
        "sent_df['sentiment_value'].describe()"
      ],
      "execution_count": 26,
      "outputs": [
        {
          "output_type": "execute_result",
          "data": {
            "text/plain": [
              "count    186.000000\n",
              "mean       0.989247\n",
              "std        3.442170\n",
              "min      -11.000000\n",
              "25%        0.000000\n",
              "50%        0.000000\n",
              "75%        3.000000\n",
              "max       24.000000\n",
              "Name: sentiment_value, dtype: float64"
            ]
          },
          "metadata": {},
          "execution_count": 26
        }
      ]
    },
    {
      "cell_type": "code",
      "metadata": {
        "colab": {
          "base_uri": "https://localhost:8080/",
          "height": 203
        },
        "id": "ZTO6ps9Ruwas",
        "outputId": "a2b707ca-84a4-4f46-bf6f-1373eee5565f"
      },
      "source": [
        "# Sentiment score of the whole review\n",
        "sent_df[sent_df['sentiment_value']<=0].head()"
      ],
      "execution_count": 27,
      "outputs": [
        {
          "output_type": "execute_result",
          "data": {
            "text/html": [
              "<div>\n",
              "<style scoped>\n",
              "    .dataframe tbody tr th:only-of-type {\n",
              "        vertical-align: middle;\n",
              "    }\n",
              "\n",
              "    .dataframe tbody tr th {\n",
              "        vertical-align: top;\n",
              "    }\n",
              "\n",
              "    .dataframe thead th {\n",
              "        text-align: right;\n",
              "    }\n",
              "</style>\n",
              "<table border=\"1\" class=\"dataframe\">\n",
              "  <thead>\n",
              "    <tr style=\"text-align: right;\">\n",
              "      <th></th>\n",
              "      <th>sentence</th>\n",
              "      <th>sentiment_value</th>\n",
              "      <th>word_count</th>\n",
              "    </tr>\n",
              "  </thead>\n",
              "  <tbody>\n",
              "    <tr>\n",
              "      <th>3</th>\n",
              "      <td>Problems will be there if you are switching fr...</td>\n",
              "      <td>-11</td>\n",
              "      <td>65</td>\n",
              "    </tr>\n",
              "    <tr>\n",
              "      <th>4</th>\n",
              "      <td>), all printers are not compatible (e.g.</td>\n",
              "      <td>0</td>\n",
              "      <td>7</td>\n",
              "    </tr>\n",
              "    <tr>\n",
              "      <th>6</th>\n",
              "      <td>you need to spend extra for an external CD wri...</td>\n",
              "      <td>0</td>\n",
              "      <td>16</td>\n",
              "    </tr>\n",
              "    <tr>\n",
              "      <th>9</th>\n",
              "      <td>Marketing strategy for Indian market, if at al...</td>\n",
              "      <td>-3</td>\n",
              "      <td>15</td>\n",
              "    </tr>\n",
              "    <tr>\n",
              "      <th>10</th>\n",
              "      <td>If these critical issues (and a few more not m...</td>\n",
              "      <td>0</td>\n",
              "      <td>23</td>\n",
              "    </tr>\n",
              "  </tbody>\n",
              "</table>\n",
              "</div>"
            ],
            "text/plain": [
              "                                             sentence  ...  word_count\n",
              "3   Problems will be there if you are switching fr...  ...          65\n",
              "4            ), all printers are not compatible (e.g.  ...           7\n",
              "6   you need to spend extra for an external CD wri...  ...          16\n",
              "9   Marketing strategy for Indian market, if at al...  ...          15\n",
              "10  If these critical issues (and a few more not m...  ...          23\n",
              "\n",
              "[5 rows x 3 columns]"
            ]
          },
          "metadata": {},
          "execution_count": 27
        }
      ]
    },
    {
      "cell_type": "code",
      "metadata": {
        "colab": {
          "base_uri": "https://localhost:8080/",
          "height": 203
        },
        "id": "cREcBpUswfJL",
        "outputId": "f4bd26dc-363a-4402-fa9c-e7466af13ca1"
      },
      "source": [
        "#Positive reviews\n",
        "sent_df[sent_df['sentiment_value']>=0].head()"
      ],
      "execution_count": 28,
      "outputs": [
        {
          "output_type": "execute_result",
          "data": {
            "text/html": [
              "<div>\n",
              "<style scoped>\n",
              "    .dataframe tbody tr th:only-of-type {\n",
              "        vertical-align: middle;\n",
              "    }\n",
              "\n",
              "    .dataframe tbody tr th {\n",
              "        vertical-align: top;\n",
              "    }\n",
              "\n",
              "    .dataframe thead th {\n",
              "        text-align: right;\n",
              "    }\n",
              "</style>\n",
              "<table border=\"1\" class=\"dataframe\">\n",
              "  <thead>\n",
              "    <tr style=\"text-align: right;\">\n",
              "      <th></th>\n",
              "      <th>sentence</th>\n",
              "      <th>sentiment_value</th>\n",
              "      <th>word_count</th>\n",
              "    </tr>\n",
              "  </thead>\n",
              "  <tbody>\n",
              "    <tr>\n",
              "      <th>0</th>\n",
              "      <td>It's amazing..... battery last around 10 -12 h...</td>\n",
              "      <td>7</td>\n",
              "      <td>19</td>\n",
              "    </tr>\n",
              "    <tr>\n",
              "      <th>1</th>\n",
              "      <td>Technically good mobile.Good News.luxury produ...</td>\n",
              "      <td>7</td>\n",
              "      <td>30</td>\n",
              "    </tr>\n",
              "    <tr>\n",
              "      <th>2</th>\n",
              "      <td>Terrific sense of possession &amp; pride.Bad News.</td>\n",
              "      <td>4</td>\n",
              "      <td>7</td>\n",
              "    </tr>\n",
              "    <tr>\n",
              "      <th>4</th>\n",
              "      <td>), all printers are not compatible (e.g.</td>\n",
              "      <td>0</td>\n",
              "      <td>7</td>\n",
              "    </tr>\n",
              "    <tr>\n",
              "      <th>5</th>\n",
              "      <td>the most economical MFD laser printer RICOH SP...</td>\n",
              "      <td>1</td>\n",
              "      <td>47</td>\n",
              "    </tr>\n",
              "  </tbody>\n",
              "</table>\n",
              "</div>"
            ],
            "text/plain": [
              "                                            sentence  ...  word_count\n",
              "0  It's amazing..... battery last around 10 -12 h...  ...          19\n",
              "1  Technically good mobile.Good News.luxury produ...  ...          30\n",
              "2     Terrific sense of possession & pride.Bad News.  ...           7\n",
              "4           ), all printers are not compatible (e.g.  ...           7\n",
              "5  the most economical MFD laser printer RICOH SP...  ...          47\n",
              "\n",
              "[5 rows x 3 columns]"
            ]
          },
          "metadata": {},
          "execution_count": 28
        }
      ]
    },
    {
      "cell_type": "code",
      "metadata": {
        "colab": {
          "base_uri": "https://localhost:8080/",
          "height": 80
        },
        "id": "Tgb9iOozuwau",
        "outputId": "1723be61-84db-41ec-eb20-2fa4be335909"
      },
      "source": [
        "sent_df[sent_df['sentiment_value']>=20].head()"
      ],
      "execution_count": 29,
      "outputs": [
        {
          "output_type": "execute_result",
          "data": {
            "text/html": [
              "<div>\n",
              "<style scoped>\n",
              "    .dataframe tbody tr th:only-of-type {\n",
              "        vertical-align: middle;\n",
              "    }\n",
              "\n",
              "    .dataframe tbody tr th {\n",
              "        vertical-align: top;\n",
              "    }\n",
              "\n",
              "    .dataframe thead th {\n",
              "        text-align: right;\n",
              "    }\n",
              "</style>\n",
              "<table border=\"1\" class=\"dataframe\">\n",
              "  <thead>\n",
              "    <tr style=\"text-align: right;\">\n",
              "      <th></th>\n",
              "      <th>sentence</th>\n",
              "      <th>sentiment_value</th>\n",
              "      <th>word_count</th>\n",
              "    </tr>\n",
              "  </thead>\n",
              "  <tbody>\n",
              "    <tr>\n",
              "      <th>85</th>\n",
              "      <td>All are Gud.. For now.. Apple,apple,apple, tha...</td>\n",
              "      <td>24</td>\n",
              "      <td>184</td>\n",
              "    </tr>\n",
              "  </tbody>\n",
              "</table>\n",
              "</div>"
            ],
            "text/plain": [
              "                                             sentence  ...  word_count\n",
              "85  All are Gud.. For now.. Apple,apple,apple, tha...  ...         184\n",
              "\n",
              "[1 rows x 3 columns]"
            ]
          },
          "metadata": {},
          "execution_count": 29
        }
      ]
    },
    {
      "cell_type": "code",
      "metadata": {
        "colab": {
          "base_uri": "https://localhost:8080/",
          "height": 203
        },
        "id": "C6sJ-Qw6wqKl",
        "outputId": "d29970ab-8a92-4699-cbfb-a5c62ef3d7fd"
      },
      "source": [
        "#Negative review\n",
        "sent_df[sent_df['sentiment_value']<=5].head()"
      ],
      "execution_count": 36,
      "outputs": [
        {
          "output_type": "execute_result",
          "data": {
            "text/html": [
              "<div>\n",
              "<style scoped>\n",
              "    .dataframe tbody tr th:only-of-type {\n",
              "        vertical-align: middle;\n",
              "    }\n",
              "\n",
              "    .dataframe tbody tr th {\n",
              "        vertical-align: top;\n",
              "    }\n",
              "\n",
              "    .dataframe thead th {\n",
              "        text-align: right;\n",
              "    }\n",
              "</style>\n",
              "<table border=\"1\" class=\"dataframe\">\n",
              "  <thead>\n",
              "    <tr style=\"text-align: right;\">\n",
              "      <th></th>\n",
              "      <th>sentence</th>\n",
              "      <th>sentiment_value</th>\n",
              "      <th>word_count</th>\n",
              "    </tr>\n",
              "  </thead>\n",
              "  <tbody>\n",
              "    <tr>\n",
              "      <th>2</th>\n",
              "      <td>Terrific sense of possession &amp; pride.Bad News.</td>\n",
              "      <td>4</td>\n",
              "      <td>7</td>\n",
              "    </tr>\n",
              "    <tr>\n",
              "      <th>3</th>\n",
              "      <td>Problems will be there if you are switching fr...</td>\n",
              "      <td>-11</td>\n",
              "      <td>65</td>\n",
              "    </tr>\n",
              "    <tr>\n",
              "      <th>4</th>\n",
              "      <td>), all printers are not compatible (e.g.</td>\n",
              "      <td>0</td>\n",
              "      <td>7</td>\n",
              "    </tr>\n",
              "    <tr>\n",
              "      <th>5</th>\n",
              "      <td>the most economical MFD laser printer RICOH SP...</td>\n",
              "      <td>1</td>\n",
              "      <td>47</td>\n",
              "    </tr>\n",
              "    <tr>\n",
              "      <th>6</th>\n",
              "      <td>you need to spend extra for an external CD wri...</td>\n",
              "      <td>0</td>\n",
              "      <td>16</td>\n",
              "    </tr>\n",
              "  </tbody>\n",
              "</table>\n",
              "</div>"
            ],
            "text/plain": [
              "                                            sentence  ...  word_count\n",
              "2     Terrific sense of possession & pride.Bad News.  ...           7\n",
              "3  Problems will be there if you are switching fr...  ...          65\n",
              "4           ), all printers are not compatible (e.g.  ...           7\n",
              "5  the most economical MFD laser printer RICOH SP...  ...          47\n",
              "6  you need to spend extra for an external CD wri...  ...          16\n",
              "\n",
              "[5 rows x 3 columns]"
            ]
          },
          "metadata": {},
          "execution_count": 36
        }
      ]
    },
    {
      "cell_type": "code",
      "metadata": {
        "id": "3nyPiL0Auwav"
      },
      "source": [
        "sent_df['index']=range(0,len(sent_df))"
      ],
      "execution_count": 37,
      "outputs": []
    },
    {
      "cell_type": "code",
      "metadata": {
        "colab": {
          "base_uri": "https://localhost:8080/",
          "height": 350
        },
        "id": "MwNJk1Lguwaw",
        "outputId": "de42f665-42fc-42e5-ec4d-4b3c404190cb"
      },
      "source": [
        "import seaborn as sns\n",
        "import matplotlib.pyplot as plt\n",
        "sns.distplot(sent_df['sentiment_value'])"
      ],
      "execution_count": 38,
      "outputs": [
        {
          "output_type": "stream",
          "name": "stderr",
          "text": [
            "/usr/local/lib/python3.7/dist-packages/seaborn/distributions.py:2619: FutureWarning: `distplot` is a deprecated function and will be removed in a future version. Please adapt your code to use either `displot` (a figure-level function with similar flexibility) or `histplot` (an axes-level function for histograms).\n",
            "  warnings.warn(msg, FutureWarning)\n"
          ]
        },
        {
          "output_type": "execute_result",
          "data": {
            "text/plain": [
              "<matplotlib.axes._subplots.AxesSubplot at 0x7f2f834ac710>"
            ]
          },
          "metadata": {},
          "execution_count": 38
        },
        {
          "output_type": "display_data",
          "data": {
            "image/png": "[encoded data removed]",
            "text/plain": [
              "<Figure size 432x288 with 1 Axes>"
            ]
          },
          "metadata": {
            "needs_background": "light"
          }
        }
      ]
    },
    {
      "cell_type": "code",
      "metadata": {
        "colab": {
          "base_uri": "https://localhost:8080/",
          "height": 623
        },
        "id": "7IJ9jyyyuway",
        "outputId": "3b9898a0-19c3-4e3e-8c32-3f8a61c17265"
      },
      "source": [
        "plt.figure(figsize=(15, 10))\n",
        "sns.lineplot(y='sentiment_value',x='index',data=sent_df)"
      ],
      "execution_count": 39,
      "outputs": [
        {
          "output_type": "execute_result",
          "data": {
            "text/plain": [
              "<matplotlib.axes._subplots.AxesSubplot at 0x7f2f83458a90>"
            ]
          },
          "metadata": {},
          "execution_count": 39
        },
        {
          "output_type": "display_data",
          "data": {
            "image/png": "[encoded data removed]",
            "text/plain": [
              "<Figure size 1080x720 with 1 Axes>"
            ]
          },
          "metadata": {
            "needs_background": "light"
          }
        }
      ]
    },
    {
      "cell_type": "code",
      "metadata": {
        "colab": {
          "base_uri": "https://localhost:8080/",
          "height": 531
        },
        "id": "uXaaQWCjuwaz",
        "outputId": "038e267c-826b-4290-a3a1-dbcfa8209f80"
      },
      "source": [
        "sent_df.plot.scatter(x='word_count', y='sentiment_value', figsize=(8,8), title='Sentence sentiment value to sentence word count')"
      ],
      "execution_count": 40,
      "outputs": [
        {
          "output_type": "execute_result",
          "data": {
            "text/plain": [
              "<matplotlib.axes._subplots.AxesSubplot at 0x7f2f80057d10>"
            ]
          },
          "metadata": {},
          "execution_count": 40
        },
        {
          "output_type": "display_data",
          "data": {
            "image/png": "[encoded data removed]",
            "text/plain": [
              "<Figure size 576x576 with 1 Axes>"
            ]
          },
          "metadata": {
            "needs_background": "light"
          }
        }
      ]
    }
  ]
}