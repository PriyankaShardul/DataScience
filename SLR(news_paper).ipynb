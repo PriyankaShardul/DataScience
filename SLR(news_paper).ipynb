{
  "nbformat": 4,
  "nbformat_minor": 0,
  "metadata": {
    "colab": {
      "name": "SLR(news_paper).ipynb",
      "provenance": [],
      "include_colab_link": true
    },
    "kernelspec": {
      "display_name": "Python 3",
      "language": "python",
      "name": "python3"
    },
    "language_info": {
      "codemirror_mode": {
        "name": "ipython",
        "version": 3
      },
      "file_extension": ".py",
      "mimetype": "text/x-python",
      "name": "python",
      "nbconvert_exporter": "python",
      "pygments_lexer": "ipython3",
      "version": "3.7.4"
    }
  },
  "cells": [
    {
      "cell_type": "markdown",
      "metadata": {
        "id": "view-in-github",
        "colab_type": "text"
      },
      "source": [
        "<a href=\"https://colab.research.google.com/github/PriyankaShardul/DataScience/blob/main/SLR(news_paper).ipynb\" target=\"_parent\"><img src=\"https://colab.research.google.com/assets/colab-badge.svg\" alt=\"Open In Colab\"/></a>"
      ]
    },
    {
      "cell_type": "markdown",
      "metadata": {
        "id": "UgLPjlenOAZU"
      },
      "source": [
        "# Import Data Set"
      ]
    },
    {
      "cell_type": "code",
      "metadata": {
        "id": "t87KFKu3OAZV"
      },
      "source": [
        "import pandas as pd\n",
        "import matplotlib.pyplot as plt\n"
      ],
      "execution_count": 1,
      "outputs": []
    },
    {
      "cell_type": "code",
      "metadata": {
        "id": "DTjjHtgUKWBO"
      },
      "source": [
        "#matplotlib to render plots in the notebook\n",
        "%matplotlib inline"
      ],
      "execution_count": 2,
      "outputs": []
    },
    {
      "cell_type": "code",
      "metadata": {
        "colab": {
          "base_uri": "https://localhost:8080/",
          "height": 203
        },
        "id": "461Bu-JxKmR7",
        "outputId": "5f0468c6-8c45-41f4-c578-a643ff293a71"
      },
      "source": [
        "data = pd.read_csv(\"/content/NewspaperData.csv\")\n",
        "data.head()"
      ],
      "execution_count": 3,
      "outputs": [
        {
          "output_type": "execute_result",
          "data": {
            "text/html": [
              "<div>\n",
              "<style scoped>\n",
              "    .dataframe tbody tr th:only-of-type {\n",
              "        vertical-align: middle;\n",
              "    }\n",
              "\n",
              "    .dataframe tbody tr th {\n",
              "        vertical-align: top;\n",
              "    }\n",
              "\n",
              "    .dataframe thead th {\n",
              "        text-align: right;\n",
              "    }\n",
              "</style>\n",
              "<table border=\"1\" class=\"dataframe\">\n",
              "  <thead>\n",
              "    <tr style=\"text-align: right;\">\n",
              "      <th></th>\n",
              "      <th>Newspaper</th>\n",
              "      <th>daily</th>\n",
              "      <th>sunday</th>\n",
              "    </tr>\n",
              "  </thead>\n",
              "  <tbody>\n",
              "    <tr>\n",
              "      <th>0</th>\n",
              "      <td>Baltimore Sun</td>\n",
              "      <td>391.952</td>\n",
              "      <td>488.506</td>\n",
              "    </tr>\n",
              "    <tr>\n",
              "      <th>1</th>\n",
              "      <td>Boston Globe</td>\n",
              "      <td>516.981</td>\n",
              "      <td>798.298</td>\n",
              "    </tr>\n",
              "    <tr>\n",
              "      <th>2</th>\n",
              "      <td>Boston Herald</td>\n",
              "      <td>355.628</td>\n",
              "      <td>235.084</td>\n",
              "    </tr>\n",
              "    <tr>\n",
              "      <th>3</th>\n",
              "      <td>Charlotte Observer</td>\n",
              "      <td>238.555</td>\n",
              "      <td>299.451</td>\n",
              "    </tr>\n",
              "    <tr>\n",
              "      <th>4</th>\n",
              "      <td>Chicago Sun Times</td>\n",
              "      <td>537.780</td>\n",
              "      <td>559.093</td>\n",
              "    </tr>\n",
              "  </tbody>\n",
              "</table>\n",
              "</div>"
            ],
            "text/plain": [
              "            Newspaper    daily   sunday\n",
              "0       Baltimore Sun  391.952  488.506\n",
              "1        Boston Globe  516.981  798.298\n",
              "2       Boston Herald  355.628  235.084\n",
              "3  Charlotte Observer  238.555  299.451\n",
              "4   Chicago Sun Times  537.780  559.093"
            ]
          },
          "metadata": {
            "tags": []
          },
          "execution_count": 3
        }
      ]
    },
    {
      "cell_type": "code",
      "metadata": {
        "colab": {
          "base_uri": "https://localhost:8080/"
        },
        "id": "by1nqrvlKBTX",
        "outputId": "14f22ce2-957d-4b46-800e-ab55226210ae"
      },
      "source": [
        "data.info()"
      ],
      "execution_count": 4,
      "outputs": [
        {
          "output_type": "stream",
          "text": [
            "<class 'pandas.core.frame.DataFrame'>\n",
            "RangeIndex: 34 entries, 0 to 33\n",
            "Data columns (total 3 columns):\n",
            " #   Column     Non-Null Count  Dtype  \n",
            "---  ------     --------------  -----  \n",
            " 0   Newspaper  34 non-null     object \n",
            " 1   daily      34 non-null     float64\n",
            " 2   sunday     34 non-null     float64\n",
            "dtypes: float64(2), object(1)\n",
            "memory usage: 944.0+ bytes\n"
          ],
          "name": "stdout"
        }
      ]
    },
    {
      "cell_type": "markdown",
      "metadata": {
        "id": "whOIvCAzOAZZ"
      },
      "source": [
        "# Correlation"
      ]
    },
    {
      "cell_type": "code",
      "metadata": {
        "colab": {
          "base_uri": "https://localhost:8080/",
          "height": 110
        },
        "id": "4Uaqam_BOAZZ",
        "outputId": "0f98d7cc-a2df-49d1-fd74-04cbba02f304"
      },
      "source": [
        "data.corr()"
      ],
      "execution_count": 5,
      "outputs": [
        {
          "output_type": "execute_result",
          "data": {
            "text/html": [
              "<div>\n",
              "<style scoped>\n",
              "    .dataframe tbody tr th:only-of-type {\n",
              "        vertical-align: middle;\n",
              "    }\n",
              "\n",
              "    .dataframe tbody tr th {\n",
              "        vertical-align: top;\n",
              "    }\n",
              "\n",
              "    .dataframe thead th {\n",
              "        text-align: right;\n",
              "    }\n",
              "</style>\n",
              "<table border=\"1\" class=\"dataframe\">\n",
              "  <thead>\n",
              "    <tr style=\"text-align: right;\">\n",
              "      <th></th>\n",
              "      <th>daily</th>\n",
              "      <th>sunday</th>\n",
              "    </tr>\n",
              "  </thead>\n",
              "  <tbody>\n",
              "    <tr>\n",
              "      <th>daily</th>\n",
              "      <td>1.000000</td>\n",
              "      <td>0.958154</td>\n",
              "    </tr>\n",
              "    <tr>\n",
              "      <th>sunday</th>\n",
              "      <td>0.958154</td>\n",
              "      <td>1.000000</td>\n",
              "    </tr>\n",
              "  </tbody>\n",
              "</table>\n",
              "</div>"
            ],
            "text/plain": [
              "           daily    sunday\n",
              "daily   1.000000  0.958154\n",
              "sunday  0.958154  1.000000"
            ]
          },
          "metadata": {
            "tags": []
          },
          "execution_count": 5
        }
      ]
    },
    {
      "cell_type": "code",
      "metadata": {
        "colab": {
          "base_uri": "https://localhost:8080/",
          "height": 350
        },
        "id": "gisL0w9WKBTa",
        "outputId": "81a3706e-613a-4ade-d71c-87477cd356a1"
      },
      "source": [
        "import seaborn as sns\n",
        "sns.distplot(data['daily'])"
      ],
      "execution_count": 6,
      "outputs": [
        {
          "output_type": "stream",
          "text": [
            "/usr/local/lib/python3.7/dist-packages/seaborn/distributions.py:2557: FutureWarning: `distplot` is a deprecated function and will be removed in a future version. Please adapt your code to use either `displot` (a figure-level function with similar flexibility) or `histplot` (an axes-level function for histograms).\n",
            "  warnings.warn(msg, FutureWarning)\n"
          ],
          "name": "stderr"
        },
        {
          "output_type": "execute_result",
          "data": {
            "text/plain": [
              "<matplotlib.axes._subplots.AxesSubplot at 0x7fe21766ab90>"
            ]
          },
          "metadata": {
            "tags": []
          },
          "execution_count": 6
        },
        {
          "output_type": "display_data",
          "data": {
            "image/png": "[encoded data removed]",
            "text/plain": [
              "<Figure size 432x288 with 1 Axes>"
            ]
          },
          "metadata": {
            "tags": [],
            "needs_background": "light"
          }
        }
      ]
    },
    {
      "cell_type": "code",
      "metadata": {
        "colab": {
          "base_uri": "https://localhost:8080/",
          "height": 350
        },
        "id": "GzthrtMXKBTc",
        "outputId": "de32f668-c0d4-4ddb-bddc-b08b456b16b3"
      },
      "source": [
        "import seaborn as sns\n",
        "sns.distplot(data['sunday'])"
      ],
      "execution_count": 7,
      "outputs": [
        {
          "output_type": "stream",
          "text": [
            "/usr/local/lib/python3.7/dist-packages/seaborn/distributions.py:2557: FutureWarning: `distplot` is a deprecated function and will be removed in a future version. Please adapt your code to use either `displot` (a figure-level function with similar flexibility) or `histplot` (an axes-level function for histograms).\n",
            "  warnings.warn(msg, FutureWarning)\n"
          ],
          "name": "stderr"
        },
        {
          "output_type": "execute_result",
          "data": {
            "text/plain": [
              "<matplotlib.axes._subplots.AxesSubplot at 0x7fe2258b2b50>"
            ]
          },
          "metadata": {
            "tags": []
          },
          "execution_count": 7
        },
        {
          "output_type": "display_data",
          "data": {
            "image/png": "[encoded data removed]",
            "text/plain": [
              "<Figure size 432x288 with 1 Axes>"
            ]
          },
          "metadata": {
            "tags": [],
            "needs_background": "light"
          }
        }
      ]
    },
    {
      "cell_type": "markdown",
      "metadata": {
        "id": "Hh2B9xPQOAZc"
      },
      "source": [
        "Fitting a Linear Regression Model"
      ]
    },
    {
      "cell_type": "code",
      "metadata": {
        "colab": {
          "base_uri": "https://localhost:8080/"
        },
        "id": "0SO63uMnOAZc",
        "outputId": "818a6488-b32f-4d67-f150-2bc87cfc4225"
      },
      "source": [
        "import statsmodels.formula.api as smf\n",
        "model = smf.ols(\"sunday~daily\",data = data).fit()"
      ],
      "execution_count": 8,
      "outputs": [
        {
          "output_type": "stream",
          "text": [
            "/usr/local/lib/python3.7/dist-packages/statsmodels/tools/_testing.py:19: FutureWarning: pandas.util.testing is deprecated. Use the functions in the public API at pandas.testing instead.\n",
            "  import pandas.util.testing as tm\n"
          ],
          "name": "stderr"
        }
      ]
    },
    {
      "cell_type": "code",
      "metadata": {
        "colab": {
          "base_uri": "https://localhost:8080/",
          "height": 279
        },
        "id": "6fvuHJRsKBTh",
        "outputId": "8c9f38e5-cd00-4b55-b9ef-d4bd7963f954"
      },
      "source": [
        "sns.regplot(x=\"daily\", y=\"sunday\", data=data);"
      ],
      "execution_count": 9,
      "outputs": [
        {
          "output_type": "display_data",
          "data": {
            "image/png": "[encoded data removed]",
            "text/plain": [
              "<Figure size 432x288 with 1 Axes>"
            ]
          },
          "metadata": {
            "tags": [],
            "needs_background": "light"
          }
        }
      ]
    },
    {
      "cell_type": "code",
      "metadata": {
        "colab": {
          "base_uri": "https://localhost:8080/"
        },
        "id": "WPz8xF1-KBTi",
        "outputId": "ba759107-7383-48a3-e762-f606cb747fc8"
      },
      "source": [
        "#Coefficients\n",
        "model.params"
      ],
      "execution_count": 10,
      "outputs": [
        {
          "output_type": "execute_result",
          "data": {
            "text/plain": [
              "Intercept    13.835630\n",
              "daily         1.339715\n",
              "dtype: float64"
            ]
          },
          "metadata": {
            "tags": []
          },
          "execution_count": 10
        }
      ]
    },
    {
      "cell_type": "code",
      "metadata": {
        "id": "3LZIbOLuKBTj",
        "outputId": "65709309-b3c7-4799-a51a-54273304a6d1"
      },
      "source": [
        "#t and p-Values\n",
        "print(model.tvalues, '\\n', model.pvalues)    "
      ],
      "execution_count": null,
      "outputs": [
        {
          "output_type": "stream",
          "text": [
            "Intercept     0.386427\n",
            "daily        18.934840\n",
            "dtype: float64 \n",
            "   Intercept    7.017382e-01\n",
            "daily        6.016802e-19\n",
            "dtype: float64\n"
          ],
          "name": "stdout"
        }
      ]
    },
    {
      "cell_type": "code",
      "metadata": {
        "colab": {
          "base_uri": "https://localhost:8080/"
        },
        "id": "HSgHvkJdKBTk",
        "outputId": "564dd722-abea-4ff0-86a2-e563bbad9bf2"
      },
      "source": [
        "#R squared values\n",
        "(model.rsquared,model.rsquared_adj)"
      ],
      "execution_count": 11,
      "outputs": [
        {
          "output_type": "execute_result",
          "data": {
            "text/plain": [
              "(0.9180596895873295, 0.9154990548869336)"
            ]
          },
          "metadata": {
            "tags": []
          },
          "execution_count": 11
        }
      ]
    },
    {
      "cell_type": "markdown",
      "metadata": {
        "id": "F2S7v7rdOAZf"
      },
      "source": [
        "# Predict for new data point"
      ]
    },
    {
      "cell_type": "code",
      "metadata": {
        "id": "rqe52vmCOAZg"
      },
      "source": [
        "#Predict for 200 and 300 daily circulation\n",
        "newdata=pd.Series([200,300])"
      ],
      "execution_count": 12,
      "outputs": []
    },
    {
      "cell_type": "code",
      "metadata": {
        "id": "BJ4ArOJnKBTn"
      },
      "source": [
        "data_pred=pd.DataFrame(newdata,columns=['daily'])"
      ],
      "execution_count": 13,
      "outputs": []
    },
    {
      "cell_type": "code",
      "metadata": {
        "colab": {
          "base_uri": "https://localhost:8080/"
        },
        "id": "10nIEtFeKBTn",
        "outputId": "ca483bf9-e467-4664-d915-9db23048dbfa"
      },
      "source": [
        "model.predict(data_pred)"
      ],
      "execution_count": 14,
      "outputs": [
        {
          "output_type": "execute_result",
          "data": {
            "text/plain": [
              "0    281.778581\n",
              "1    415.750057\n",
              "dtype: float64"
            ]
          },
          "metadata": {
            "tags": []
          },
          "execution_count": 14
        }
      ]
    },
    {
      "cell_type": "code",
      "metadata": {
        "colab": {
          "base_uri": "https://localhost:8080/"
        },
        "id": "Kpcwoo3dKBTo",
        "outputId": "7ef446e8-5e19-4d36-8fb7-5ab7b341517a"
      },
      "source": [
        "13.8356+1.3397*(200)"
      ],
      "execution_count": 15,
      "outputs": [
        {
          "output_type": "execute_result",
          "data": {
            "text/plain": [
              "281.7756"
            ]
          },
          "metadata": {
            "tags": []
          },
          "execution_count": 15
        }
      ]
    },
    {
      "cell_type": "code",
      "metadata": {
        "colab": {
          "base_uri": "https://localhost:8080/"
        },
        "id": "lwBmOxoGLdkU",
        "outputId": "a15cb5f7-f5aa-4105-8346-8e68d6ae270d"
      },
      "source": [
        "13.8356+1.3397*(300)"
      ],
      "execution_count": 16,
      "outputs": [
        {
          "output_type": "execute_result",
          "data": {
            "text/plain": [
              "415.74559999999997"
            ]
          },
          "metadata": {
            "tags": []
          },
          "execution_count": 16
        }
      ]
    }
  ]
}